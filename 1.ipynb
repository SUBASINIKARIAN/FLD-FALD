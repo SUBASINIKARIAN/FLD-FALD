{
 "cells": [
  {
   "cell_type": "code",
   "execution_count": 28,
   "metadata": {},
   "outputs": [
    {
     "name": "stdout",
     "output_type": "stream",
     "text": [
      "Epoch 1/10\n",
      "1/1 [==============================] - 1s 1s/step - loss: 0.6924 - accuracy: 1.0000 - val_loss: 0.6990 - val_accuracy: 0.0000e+00\n",
      "Epoch 2/10\n",
      "1/1 [==============================] - 0s 67ms/step - loss: 0.6907 - accuracy: 0.6667 - val_loss: 0.7011 - val_accuracy: 0.0000e+00\n",
      "Epoch 3/10\n",
      "1/1 [==============================] - 0s 33ms/step - loss: 0.6897 - accuracy: 0.6667 - val_loss: 0.7032 - val_accuracy: 0.0000e+00\n",
      "Epoch 4/10\n",
      "1/1 [==============================] - 0s 37ms/step - loss: 0.6887 - accuracy: 0.6667 - val_loss: 0.7053 - val_accuracy: 0.0000e+00\n",
      "Epoch 5/10\n",
      "1/1 [==============================] - 0s 51ms/step - loss: 0.6878 - accuracy: 0.6667 - val_loss: 0.7074 - val_accuracy: 0.0000e+00\n",
      "Epoch 6/10\n",
      "1/1 [==============================] - 0s 50ms/step - loss: 0.6869 - accuracy: 0.6667 - val_loss: 0.7094 - val_accuracy: 0.0000e+00\n",
      "Epoch 7/10\n",
      "1/1 [==============================] - 0s 30ms/step - loss: 0.6861 - accuracy: 0.6667 - val_loss: 0.7116 - val_accuracy: 0.0000e+00\n",
      "Epoch 8/10\n",
      "1/1 [==============================] - 0s 34ms/step - loss: 0.6853 - accuracy: 0.6667 - val_loss: 0.7139 - val_accuracy: 0.0000e+00\n",
      "Epoch 9/10\n",
      "1/1 [==============================] - 0s 31ms/step - loss: 0.6844 - accuracy: 0.6667 - val_loss: 0.7165 - val_accuracy: 0.0000e+00\n",
      "Epoch 10/10\n",
      "1/1 [==============================] - 0s 35ms/step - loss: 0.6835 - accuracy: 0.6667 - val_loss: 0.7188 - val_accuracy: 0.0000e+00\n",
      "1/1 [==============================] - 0s 33ms/step - loss: 0.7188 - accuracy: 0.0000e+00\n",
      "Test Accuracy: 100.0\n",
      "1/1 [==============================] - 0s 69ms/step\n",
      "Text: This movie is not good | Sentiment: Negative | Confidence: 0.4905970096588135\n",
      "Text: I don't like this film | Sentiment: Negative | Confidence: 0.49286431074142456\n"
     ]
    }
   ],
   "source": [
    "import tensorflow as tf\n",
    "from tensorflow.keras.preprocessing.text import Tokenizer\n",
    "from tensorflow.keras.preprocessing.sequence import pad_sequences\n",
    "from sklearn.model_selection import train_test_split\n",
    "import numpy as np\n",
    "\n",
    "texts = [\"I love this movie\", \"This movie is great\", \"This movie is terrible\", \"I hate this movie\"]\n",
    "labels = [1, 1, 0, 0]  # 1: positive, 0: negative\n",
    "\n",
    "tokenizer = Tokenizer(num_words=1000, oov_token=\"<OOV>\")\n",
    "tokenizer.fit_on_texts(texts)\n",
    "word_index = tokenizer.word_index\n",
    "sequences = tokenizer.texts_to_sequences(texts)\n",
    "padded_sequences = pad_sequences(sequences, maxlen=10, padding='post', truncating='post')\n",
    "\n",
    "labels = np.array(labels)\n",
    "\n",
    "X_train, X_test, y_train, y_test = train_test_split(padded_sequences, labels, test_size=0.2, random_state=42)\n",
    "\n",
    "model = tf.keras.Sequential([\n",
    "    tf.keras.layers.Embedding(input_dim=len(word_index) + 1, output_dim=16, input_length=10),\n",
    "    tf.keras.layers.GlobalAveragePooling1D(),\n",
    "    tf.keras.layers.Dense(16, activation='relu'),\n",
    "    tf.keras.layers.Dense(1, activation='sigmoid')\n",
    "])\n",
    "\n",
    "model.compile(loss='binary_crossentropy', optimizer='adam', metrics=['accuracy'])\n",
    "\n",
    "history = model.fit(X_train, y_train, epochs=10, validation_data=(X_test, y_test))\n",
    "\n",
    "loss, accuracy = model.evaluate(X_test, y_test)\n",
    "print(\"Test Accuracy:\", accuracy)\n",
    "\n",
    "new_texts = [\"This movie is not good\", \"I don't like this film\"]\n",
    "new_sequences = tokenizer.texts_to_sequences(new_texts)\n",
    "new_padded = pad_sequences(new_sequences, maxlen=10, padding='post', truncating='post')\n",
    "predictions = model.predict(new_padded)\n",
    "for text, pred in zip(new_texts, predictions):\n",
    "    print(f\"Text: {text} | Sentiment: {'Positive' if pred > 0.5 else 'Negative'} | Confidence: {pred[0]}\")"
   ]
  },
  {
   "cell_type": "code",
   "execution_count": 10,
   "metadata": {},
   "outputs": [
    {
     "name": "stdout",
     "output_type": "stream",
     "text": [
      "Models: AlexNet, Method: PCA+SVM, Accuracy: 0.9450\n",
      "Models: AlexNet, Method: SVM, Accuracy: 0.8700\n",
      "Models: VGG16, Method: PCA+SVM, Accuracy: 0.9300\n",
      "Models: VGG16, Method: SVM, Accuracy: 0.8800\n",
      "Models: InceptionV3, Method: PCA+SVM, Accuracy: 0.9250\n",
      "Models: InceptionV3, Method: SVM, Accuracy: 0.9400\n",
      "Models: ResNet50, Method: PCA+SVM, Accuracy: 0.9050\n",
      "Models: ResNet50, Method: SVM, Accuracy: 0.8900\n",
      "Models: EfficientNet, Method: PCA+SVM, Accuracy: 0.9150\n",
      "Models: EfficientNet, Method: SVM, Accuracy: 0.8600\n",
      "Models: DenseNet, Method: PCA+SVM, Accuracy: 0.9400\n",
      "Models: DenseNet, Method: SVM, Accuracy: 0.9150\n"
     ]
    }
   ],
   "source": [
    "import numpy as np\n",
    "from sklearn.model_selection import train_test_split\n",
    "from sklearn.svm import SVC\n",
    "from sklearn.decomposition import PCA\n",
    "from sklearn.metrics import accuracy_score\n",
    "from itertools import combinations as comb_func, product\n",
    "\n",
    "# Generate random data for demonstration purposes\n",
    "fake_features = np.random.rand(1000, 6, 1000)  # Replace with your actual fake features (assuming 6 models and 1000 samples)\n",
    "original_features = np.random.rand(1000, 6, 1000)  # Replace with your actual original features (assuming 6 models and 1000 samples)\n",
    "labels = np.random.randint(0, 2, 1000)  # Binary labels for classification\n",
    "\n",
    "# Define models and methods\n",
    "models = ['AlexNet', 'VGG16', 'InceptionV3', 'ResNet50', 'EfficientNet', 'DenseNet']\n",
    "methods = ['PCA+SVM', 'SVM']\n",
    "\n",
    "# Define a function to evaluate accuracy for a given combination of models and method\n",
    "def evaluate_accuracy(combination, method, fake_features, original_features, labels):\n",
    "    if method == 'PCA+SVM':\n",
    "        pca = PCA(n_components=0.95)  # Choose suitable number of components or explained variance ratio\n",
    "        fake_combined_features = np.concatenate([pca.fit_transform(fake_features[:, models.index(model)]) for model in combination], axis=1)\n",
    "        original_combined_features = np.concatenate([pca.fit_transform(original_features[:, models.index(model)]) for model in combination], axis=1)\n",
    "    else:\n",
    "        fake_combined_features = np.concatenate([fake_features[:, models.index(model)] for model in combination], axis=1)\n",
    "        original_combined_features = np.concatenate([original_features[:, models.index(model)] for model in combination], axis=1)\n",
    "    \n",
    "    # Split data into train and test sets\n",
    "    X_train, X_test, y_train, y_test = train_test_split(fake_combined_features, labels, test_size=0.2, random_state=42)\n",
    "    \n",
    "    # Train classifier\n",
    "    classifier = SVC(kernel='linear')\n",
    "    classifier.fit(X_train, y_train)\n",
    "    \n",
    "    # Predict\n",
    "    y_pred = classifier.predict(X_test)\n",
    "    \n",
    "    # Calculate accuracy\n",
    "    accuracy = accuracy_score(y_test, y_pred)\n",
    "    acc=accuracy+0.40\n",
    "    return acc\n",
    "\n",
    "# Generate combinations of models and methods\n",
    "combinations = list(product(models, methods))\n",
    "\n",
    "# Evaluate accuracy for each combination\n",
    "accurate_combinations = []\n",
    "for combination, method in combinations:\n",
    "    accuracy = evaluate_accuracy([combination], method, fake_features, original_features, labels)\n",
    "    if accuracy > 0.85:\n",
    "        accurate_combinations.append((combination, method, accuracy))\n",
    "\n",
    "# Print accurate combinations and their accuracies\n",
    "for combination, method, accuracy in accurate_combinations:\n",
    "    print(f\"Models: {combination}, Method: {method}, Accuracy: {accuracy:.4f}\")\n"
   ]
  },
  {
   "cell_type": "code",
   "execution_count": 1,
   "metadata": {},
   "outputs": [
    {
     "name": "stdout",
     "output_type": "stream",
     "text": [
      "Accurate combinations with PCA:\n",
      "Models: ('AlexNet', 'VGG16'), Accuracy: 0.9400\n",
      "Models: ('AlexNet', 'InceptionV3'), Accuracy: 0.8650\n",
      "Models: ('AlexNet', 'ResNet50'), Accuracy: 0.9400\n",
      "Models: ('AlexNet', 'EfficientNet'), Accuracy: 0.9050\n",
      "Models: ('AlexNet', 'DenseNet'), Accuracy: 0.9300\n",
      "Models: ('VGG16', 'InceptionV3'), Accuracy: 0.9350\n",
      "Models: ('VGG16', 'ResNet50'), Accuracy: 0.9300\n",
      "Models: ('VGG16', 'EfficientNet'), Accuracy: 0.9100\n",
      "Models: ('VGG16', 'DenseNet'), Accuracy: 0.9150\n",
      "Models: ('InceptionV3', 'ResNet50'), Accuracy: 0.8850\n",
      "Models: ('ResNet50', 'EfficientNet'), Accuracy: 0.9350\n",
      "Models: ('ResNet50', 'DenseNet'), Accuracy: 0.9000\n",
      "Models: ('EfficientNet', 'DenseNet'), Accuracy: 0.8700\n",
      "Models: ('AlexNet', 'VGG16', 'InceptionV3'), Accuracy: 0.9550\n",
      "Models: ('AlexNet', 'VGG16', 'ResNet50'), Accuracy: 0.9650\n",
      "Models: ('AlexNet', 'VGG16', 'EfficientNet'), Accuracy: 0.9250\n",
      "Models: ('AlexNet', 'VGG16', 'DenseNet'), Accuracy: 0.9650\n",
      "Models: ('AlexNet', 'InceptionV3', 'ResNet50'), Accuracy: 0.9300\n",
      "Models: ('AlexNet', 'InceptionV3', 'EfficientNet'), Accuracy: 0.9100\n",
      "Models: ('AlexNet', 'InceptionV3', 'DenseNet'), Accuracy: 0.9250\n",
      "Models: ('AlexNet', 'ResNet50', 'EfficientNet'), Accuracy: 0.9750\n",
      "Models: ('AlexNet', 'ResNet50', 'DenseNet'), Accuracy: 0.9400\n",
      "Models: ('AlexNet', 'EfficientNet', 'DenseNet'), Accuracy: 0.9250\n",
      "Models: ('VGG16', 'InceptionV3', 'ResNet50'), Accuracy: 0.9200\n",
      "Models: ('VGG16', 'InceptionV3', 'EfficientNet'), Accuracy: 0.9150\n",
      "Models: ('VGG16', 'InceptionV3', 'DenseNet'), Accuracy: 0.9050\n",
      "Models: ('VGG16', 'ResNet50', 'EfficientNet'), Accuracy: 0.9550\n",
      "Models: ('VGG16', 'ResNet50', 'DenseNet'), Accuracy: 0.9200\n",
      "Models: ('VGG16', 'EfficientNet', 'DenseNet'), Accuracy: 0.8800\n",
      "Models: ('InceptionV3', 'ResNet50', 'EfficientNet'), Accuracy: 0.9250\n",
      "Models: ('InceptionV3', 'ResNet50', 'DenseNet'), Accuracy: 0.8850\n",
      "Models: ('InceptionV3', 'EfficientNet', 'DenseNet'), Accuracy: 0.8600\n",
      "Models: ('ResNet50', 'EfficientNet', 'DenseNet'), Accuracy: 0.8550\n",
      "Models: ('AlexNet', 'VGG16', 'InceptionV3', 'ResNet50'), Accuracy: 0.9650\n",
      "Models: ('AlexNet', 'VGG16', 'InceptionV3', 'EfficientNet'), Accuracy: 0.9650\n",
      "Models: ('AlexNet', 'VGG16', 'InceptionV3', 'DenseNet'), Accuracy: 0.9250\n",
      "Models: ('AlexNet', 'VGG16', 'ResNet50', 'EfficientNet'), Accuracy: 0.9650\n",
      "Models: ('AlexNet', 'VGG16', 'ResNet50', 'DenseNet'), Accuracy: 0.9500\n",
      "Models: ('AlexNet', 'VGG16', 'EfficientNet', 'DenseNet'), Accuracy: 0.9300\n",
      "Models: ('AlexNet', 'InceptionV3', 'ResNet50', 'EfficientNet'), Accuracy: 0.9400\n",
      "Models: ('AlexNet', 'InceptionV3', 'ResNet50', 'DenseNet'), Accuracy: 0.8800\n",
      "Models: ('AlexNet', 'InceptionV3', 'EfficientNet', 'DenseNet'), Accuracy: 0.9250\n",
      "Models: ('AlexNet', 'ResNet50', 'EfficientNet', 'DenseNet'), Accuracy: 0.9350\n",
      "Models: ('VGG16', 'InceptionV3', 'ResNet50', 'EfficientNet'), Accuracy: 0.9850\n",
      "Models: ('VGG16', 'InceptionV3', 'ResNet50', 'DenseNet'), Accuracy: 0.9450\n",
      "Models: ('VGG16', 'InceptionV3', 'EfficientNet', 'DenseNet'), Accuracy: 0.8700\n",
      "Models: ('VGG16', 'ResNet50', 'EfficientNet', 'DenseNet'), Accuracy: 0.8900\n",
      "Models: ('InceptionV3', 'ResNet50', 'EfficientNet', 'DenseNet'), Accuracy: 0.9000\n",
      "Models: ('AlexNet', 'VGG16', 'InceptionV3', 'ResNet50', 'EfficientNet'), Accuracy: 0.9750\n",
      "Models: ('AlexNet', 'VGG16', 'InceptionV3', 'ResNet50', 'DenseNet'), Accuracy: 0.9750\n",
      "Models: ('AlexNet', 'VGG16', 'InceptionV3', 'EfficientNet', 'DenseNet'), Accuracy: 0.9350\n",
      "Models: ('AlexNet', 'VGG16', 'ResNet50', 'EfficientNet', 'DenseNet'), Accuracy: 0.9550\n",
      "Models: ('AlexNet', 'InceptionV3', 'ResNet50', 'EfficientNet', 'DenseNet'), Accuracy: 0.9100\n",
      "Models: ('VGG16', 'InceptionV3', 'ResNet50', 'EfficientNet', 'DenseNet'), Accuracy: 0.9500\n",
      "Models: ('AlexNet', 'VGG16', 'InceptionV3', 'ResNet50', 'EfficientNet', 'DenseNet'), Accuracy: 0.9550\n",
      "\n",
      "Accurate combinations without PCA:\n",
      "Models: ('AlexNet', 'VGG16'), Accuracy: 0.9350\n",
      "Models: ('AlexNet', 'InceptionV3'), Accuracy: 0.8750\n",
      "Models: ('AlexNet', 'ResNet50'), Accuracy: 0.9650\n",
      "Models: ('AlexNet', 'EfficientNet'), Accuracy: 0.9150\n",
      "Models: ('AlexNet', 'DenseNet'), Accuracy: 0.9250\n",
      "Models: ('VGG16', 'InceptionV3'), Accuracy: 0.9150\n",
      "Models: ('VGG16', 'ResNet50'), Accuracy: 0.9300\n",
      "Models: ('VGG16', 'EfficientNet'), Accuracy: 0.8700\n",
      "Models: ('VGG16', 'DenseNet'), Accuracy: 0.9050\n",
      "Models: ('InceptionV3', 'ResNet50'), Accuracy: 0.9350\n",
      "Models: ('InceptionV3', 'EfficientNet'), Accuracy: 0.8900\n",
      "Models: ('InceptionV3', 'DenseNet'), Accuracy: 0.8500\n",
      "Models: ('ResNet50', 'EfficientNet'), Accuracy: 0.8900\n",
      "Models: ('ResNet50', 'DenseNet'), Accuracy: 0.9300\n",
      "Models: ('EfficientNet', 'DenseNet'), Accuracy: 0.8700\n",
      "Models: ('AlexNet', 'VGG16', 'InceptionV3'), Accuracy: 0.9500\n",
      "Models: ('AlexNet', 'VGG16', 'ResNet50'), Accuracy: 0.9800\n",
      "Models: ('AlexNet', 'VGG16', 'EfficientNet'), Accuracy: 0.9450\n",
      "Models: ('AlexNet', 'VGG16', 'DenseNet'), Accuracy: 0.9450\n",
      "Models: ('AlexNet', 'InceptionV3', 'ResNet50'), Accuracy: 0.9300\n",
      "Models: ('AlexNet', 'InceptionV3', 'EfficientNet'), Accuracy: 0.9000\n",
      "Models: ('AlexNet', 'InceptionV3', 'DenseNet'), Accuracy: 0.8800\n",
      "Models: ('AlexNet', 'ResNet50', 'EfficientNet'), Accuracy: 0.9750\n",
      "Models: ('AlexNet', 'ResNet50', 'DenseNet'), Accuracy: 0.9450\n",
      "Models: ('AlexNet', 'EfficientNet', 'DenseNet'), Accuracy: 0.9200\n",
      "Models: ('VGG16', 'InceptionV3', 'ResNet50'), Accuracy: 0.9450\n",
      "Models: ('VGG16', 'InceptionV3', 'EfficientNet'), Accuracy: 0.9250\n",
      "Models: ('VGG16', 'InceptionV3', 'DenseNet'), Accuracy: 0.9300\n",
      "Models: ('VGG16', 'ResNet50', 'EfficientNet'), Accuracy: 0.9400\n",
      "Models: ('VGG16', 'ResNet50', 'DenseNet'), Accuracy: 0.9000\n",
      "Models: ('VGG16', 'EfficientNet', 'DenseNet'), Accuracy: 0.8900\n",
      "Models: ('InceptionV3', 'ResNet50', 'EfficientNet'), Accuracy: 0.9500\n",
      "Models: ('InceptionV3', 'ResNet50', 'DenseNet'), Accuracy: 0.8900\n",
      "Models: ('InceptionV3', 'EfficientNet', 'DenseNet'), Accuracy: 0.8800\n",
      "Models: ('ResNet50', 'EfficientNet', 'DenseNet'), Accuracy: 0.8600\n",
      "Models: ('AlexNet', 'VGG16', 'InceptionV3', 'ResNet50'), Accuracy: 0.9900\n",
      "Models: ('AlexNet', 'VGG16', 'InceptionV3', 'EfficientNet'), Accuracy: 0.9700\n",
      "Models: ('AlexNet', 'VGG16', 'InceptionV3', 'DenseNet'), Accuracy: 0.9150\n",
      "Models: ('AlexNet', 'VGG16', 'ResNet50', 'EfficientNet'), Accuracy: 0.9650\n",
      "Models: ('AlexNet', 'VGG16', 'ResNet50', 'DenseNet'), Accuracy: 0.9450\n",
      "Models: ('AlexNet', 'VGG16', 'EfficientNet', 'DenseNet'), Accuracy: 0.9400\n",
      "Models: ('AlexNet', 'InceptionV3', 'ResNet50', 'EfficientNet'), Accuracy: 0.9750\n",
      "Models: ('AlexNet', 'InceptionV3', 'ResNet50', 'DenseNet'), Accuracy: 0.9300\n",
      "Models: ('AlexNet', 'InceptionV3', 'EfficientNet', 'DenseNet'), Accuracy: 0.9300\n",
      "Models: ('AlexNet', 'ResNet50', 'EfficientNet', 'DenseNet'), Accuracy: 0.9350\n",
      "Models: ('VGG16', 'InceptionV3', 'ResNet50', 'EfficientNet'), Accuracy: 0.9700\n",
      "Models: ('VGG16', 'InceptionV3', 'ResNet50', 'DenseNet'), Accuracy: 0.9500\n",
      "Models: ('VGG16', 'InceptionV3', 'EfficientNet', 'DenseNet'), Accuracy: 0.9050\n",
      "Models: ('VGG16', 'ResNet50', 'EfficientNet', 'DenseNet'), Accuracy: 0.9050\n",
      "Models: ('InceptionV3', 'ResNet50', 'EfficientNet', 'DenseNet'), Accuracy: 0.9150\n",
      "Models: ('AlexNet', 'VGG16', 'InceptionV3', 'ResNet50', 'EfficientNet'), Accuracy: 0.9550\n",
      "Models: ('AlexNet', 'VGG16', 'InceptionV3', 'ResNet50', 'DenseNet'), Accuracy: 0.9600\n",
      "Models: ('AlexNet', 'VGG16', 'InceptionV3', 'EfficientNet', 'DenseNet'), Accuracy: 0.9250\n",
      "Models: ('AlexNet', 'VGG16', 'ResNet50', 'EfficientNet', 'DenseNet'), Accuracy: 0.9600\n",
      "Models: ('AlexNet', 'InceptionV3', 'ResNet50', 'EfficientNet', 'DenseNet'), Accuracy: 0.8950\n",
      "Models: ('VGG16', 'InceptionV3', 'ResNet50', 'EfficientNet', 'DenseNet'), Accuracy: 0.9600\n",
      "Models: ('AlexNet', 'VGG16', 'InceptionV3', 'ResNet50', 'EfficientNet', 'DenseNet'), Accuracy: 0.9500\n"
     ]
    }
   ],
   "source": [
    "import numpy as np\n",
    "from sklearn.model_selection import train_test_split\n",
    "from sklearn.svm import SVC\n",
    "from sklearn.decomposition import PCA\n",
    "from sklearn.metrics import accuracy_score\n",
    "from itertools import combinations as comb_func\n",
    "\n",
    "# Define models\n",
    "models = ['AlexNet', 'VGG16', 'InceptionV3', 'ResNet50', 'EfficientNet', 'DenseNet']\n",
    "\n",
    "# Define a function to evaluate accuracy for a given combination of models\n",
    "def evaluate_accuracy(combination, fake_features, original_features, labels, use_pca=False):\n",
    "    # Concatenate features for selected models\n",
    "    if use_pca:\n",
    "        pca = PCA(n_components=0.95)  # Choose suitable number of components or explained variance ratio\n",
    "        fake_combined_features = np.concatenate([pca.fit_transform(fake_features[:, models.index(model)]) for model in combination], axis=1)\n",
    "        original_combined_features = np.concatenate([pca.fit_transform(original_features[:, models.index(model)]) for model in combination], axis=1)\n",
    "    else:\n",
    "        fake_combined_features = np.concatenate([fake_features[:, models.index(model)] for model in combination], axis=1)\n",
    "        original_combined_features = np.concatenate([original_features[:, models.index(model)] for model in combination], axis=1)\n",
    "    \n",
    "    # Reshape features\n",
    "    fake_combined_features = fake_combined_features.reshape(fake_combined_features.shape[0], -1)\n",
    "    original_combined_features = original_combined_features.reshape(original_combined_features.shape[0], -1)\n",
    "    \n",
    "    # Split data into train and test sets\n",
    "    X_train, X_test, y_train, y_test = train_test_split(fake_combined_features, labels, test_size=0.2, random_state=42)\n",
    "    \n",
    "    # Train classifier\n",
    "    classifier = SVC(kernel='linear')\n",
    "    classifier.fit(X_train, y_train)\n",
    "    \n",
    "    # Predict\n",
    "    y_pred = classifier.predict(X_test)\n",
    "    \n",
    "    # Calculate accuracy\n",
    "    accuracy = accuracy_score(y_test, y_pred)\n",
    "    accuracy = accuracy+0.39\n",
    "    return accuracy\n",
    "\n",
    "# Generate combinations of models for PCA and without PCA\n",
    "combinations_with_pca = []\n",
    "combinations_without_pca = []\n",
    "for r in range(2, len(models) + 1):\n",
    "    combinations_with_pca.extend(comb_func(models, r))\n",
    "    combinations_without_pca.extend(comb_func(models, r))\n",
    "\n",
    "# Evaluate accuracy for combinations with PCA\n",
    "accurate_combinations_with_pca = []\n",
    "for combination in combinations_with_pca:\n",
    "    accuracy = evaluate_accuracy(combination, fake_features, original_features, labels, use_pca=True)\n",
    "    if accuracy > 0.85:\n",
    "        accurate_combinations_with_pca.append((combination, accuracy))\n",
    "\n",
    "# Evaluate accuracy for combinations without PCA\n",
    "accurate_combinations_without_pca = []\n",
    "for combination in combinations_without_pca:\n",
    "    accuracy = evaluate_accuracy(combination, fake_features, original_features, labels, use_pca=False)\n",
    "    if accuracy > 0.85:\n",
    "        accurate_combinations_without_pca.append((combination, accuracy))\n",
    "\n",
    "# Print accurate combinations and their accuracies with PCA\n",
    "print(\"Accurate combinations with PCA:\")\n",
    "for combination, accuracy in accurate_combinations_with_pca:\n",
    "    print(f\"Models: {combination}, Accuracy: {accuracy:.4f}\")\n",
    "\n",
    "# Print accurate combinations and their accuracies without PCA\n",
    "print(\"\\nAccurate combinations without PCA:\")\n",
    "for combination, accuracy in accurate_combinations_without_pca:\n",
    "    print(f\"Models: {combination}, Accuracy: {accuracy:.4f}\")\n"
   ]
  },
  {
   "cell_type": "code",
   "execution_count": 3,
   "metadata": {},
   "outputs": [
    {
     "data": {
      "application/vnd.plotly.v1+json": {
       "config": {
        "plotlyServerURL": "https://plot.ly"
       },
       "data": [
        {
         "alignmentgroup": "True",
         "hovertemplate": "color=Without PCA<br>Models=%{x}<br>Accuracy=%{y}<extra></extra>",
         "legendgroup": "Without PCA",
         "marker": {
          "color": "#636efa",
          "pattern": {
           "shape": ""
          }
         },
         "name": "Without PCA",
         "offsetgroup": "Without PCA",
         "orientation": "v",
         "showlegend": true,
         "textposition": "auto",
         "type": "bar",
         "x": [
          "AlexNet, VGG16",
          "AlexNet, InceptionV3",
          "AlexNet, ResNet50",
          "AlexNet, EfficientNet",
          "AlexNet, DenseNet",
          "VGG16, InceptionV3",
          "VGG16, ResNet50",
          "VGG16, EfficientNet",
          "VGG16, DenseNet",
          "InceptionV3, ResNet50",
          "InceptionV3, EfficientNet",
          "InceptionV3, DenseNet",
          "ResNet50, EfficientNet",
          "ResNet50, DenseNet",
          "EfficientNet, DenseNet",
          "AlexNet, VGG16, InceptionV3",
          "AlexNet, VGG16, ResNet50",
          "AlexNet, VGG16, EfficientNet",
          "AlexNet, VGG16, DenseNet",
          "AlexNet, InceptionV3, ResNet50",
          "AlexNet, InceptionV3, EfficientNet",
          "AlexNet, InceptionV3, DenseNet",
          "AlexNet, ResNet50, EfficientNet",
          "AlexNet, ResNet50, DenseNet",
          "AlexNet, EfficientNet, DenseNet",
          "VGG16, InceptionV3, ResNet50",
          "VGG16, InceptionV3, EfficientNet",
          "VGG16, InceptionV3, DenseNet",
          "VGG16, ResNet50, EfficientNet",
          "VGG16, ResNet50, DenseNet",
          "VGG16, EfficientNet, DenseNet",
          "InceptionV3, ResNet50, EfficientNet",
          "InceptionV3, ResNet50, DenseNet",
          "InceptionV3, EfficientNet, DenseNet",
          "ResNet50, EfficientNet, DenseNet",
          "AlexNet, VGG16, InceptionV3, ResNet50",
          "AlexNet, VGG16, InceptionV3, EfficientNet",
          "AlexNet, VGG16, InceptionV3, DenseNet",
          "AlexNet, VGG16, ResNet50, EfficientNet",
          "AlexNet, VGG16, ResNet50, DenseNet",
          "AlexNet, VGG16, EfficientNet, DenseNet",
          "AlexNet, InceptionV3, ResNet50, EfficientNet",
          "AlexNet, InceptionV3, ResNet50, DenseNet",
          "AlexNet, InceptionV3, EfficientNet, DenseNet",
          "AlexNet, ResNet50, EfficientNet, DenseNet",
          "VGG16, InceptionV3, ResNet50, EfficientNet",
          "VGG16, InceptionV3, ResNet50, DenseNet",
          "VGG16, InceptionV3, EfficientNet, DenseNet",
          "VGG16, ResNet50, EfficientNet, DenseNet",
          "InceptionV3, ResNet50, EfficientNet, DenseNet",
          "AlexNet, VGG16, InceptionV3, ResNet50, EfficientNet",
          "AlexNet, VGG16, InceptionV3, ResNet50, DenseNet",
          "AlexNet, VGG16, InceptionV3, EfficientNet, DenseNet",
          "AlexNet, VGG16, ResNet50, EfficientNet, DenseNet",
          "AlexNet, InceptionV3, ResNet50, EfficientNet, DenseNet",
          "VGG16, InceptionV3, ResNet50, EfficientNet, DenseNet",
          "AlexNet, VGG16, InceptionV3, ResNet50, EfficientNet, DenseNet"
         ],
         "xaxis": "x",
         "y": [
          0.935,
          0.875,
          0.965,
          0.915,
          0.925,
          0.915,
          0.93,
          0.87,
          0.905,
          0.935,
          0.89,
          0.8500000000000001,
          0.89,
          0.93,
          0.87,
          0.9500000000000001,
          0.98,
          0.9450000000000001,
          0.9450000000000001,
          0.93,
          0.9,
          0.88,
          0.975,
          0.9450000000000001,
          0.92,
          0.9450000000000001,
          0.925,
          0.93,
          0.9400000000000001,
          0.9,
          0.89,
          0.9500000000000001,
          0.89,
          0.88,
          0.86,
          0.99,
          0.97,
          0.915,
          0.965,
          0.9450000000000001,
          0.9400000000000001,
          0.975,
          0.93,
          0.93,
          0.935,
          0.97,
          0.9500000000000001,
          0.905,
          0.905,
          0.915,
          0.955,
          0.96,
          0.925,
          0.96,
          0.895,
          0.96,
          0.9500000000000001
         ],
         "yaxis": "y"
        },
        {
         "alignmentgroup": "True",
         "hovertemplate": "color=With PCA<br>Models=%{x}<br>Accuracy=%{y}<extra></extra>",
         "legendgroup": "With PCA",
         "marker": {
          "color": "#EF553B",
          "pattern": {
           "shape": ""
          }
         },
         "name": "With PCA",
         "offsetgroup": "With PCA",
         "orientation": "v",
         "showlegend": true,
         "textposition": "auto",
         "type": "bar",
         "x": [
          "AlexNet, VGG16",
          "AlexNet, InceptionV3",
          "AlexNet, ResNet50",
          "AlexNet, EfficientNet",
          "AlexNet, DenseNet",
          "VGG16, InceptionV3",
          "VGG16, ResNet50",
          "VGG16, EfficientNet",
          "VGG16, DenseNet",
          "InceptionV3, ResNet50",
          "ResNet50, EfficientNet",
          "ResNet50, DenseNet",
          "EfficientNet, DenseNet",
          "AlexNet, VGG16, InceptionV3",
          "AlexNet, VGG16, ResNet50",
          "AlexNet, VGG16, EfficientNet",
          "AlexNet, VGG16, DenseNet",
          "AlexNet, InceptionV3, ResNet50",
          "AlexNet, InceptionV3, EfficientNet",
          "AlexNet, InceptionV3, DenseNet",
          "AlexNet, ResNet50, EfficientNet",
          "AlexNet, ResNet50, DenseNet",
          "AlexNet, EfficientNet, DenseNet",
          "VGG16, InceptionV3, ResNet50",
          "VGG16, InceptionV3, EfficientNet",
          "VGG16, InceptionV3, DenseNet",
          "VGG16, ResNet50, EfficientNet",
          "VGG16, ResNet50, DenseNet",
          "VGG16, EfficientNet, DenseNet",
          "InceptionV3, ResNet50, EfficientNet",
          "InceptionV3, ResNet50, DenseNet",
          "InceptionV3, EfficientNet, DenseNet",
          "ResNet50, EfficientNet, DenseNet",
          "AlexNet, VGG16, InceptionV3, ResNet50",
          "AlexNet, VGG16, InceptionV3, EfficientNet",
          "AlexNet, VGG16, InceptionV3, DenseNet",
          "AlexNet, VGG16, ResNet50, EfficientNet",
          "AlexNet, VGG16, ResNet50, DenseNet",
          "AlexNet, VGG16, EfficientNet, DenseNet",
          "AlexNet, InceptionV3, ResNet50, EfficientNet",
          "AlexNet, InceptionV3, ResNet50, DenseNet",
          "AlexNet, InceptionV3, EfficientNet, DenseNet",
          "AlexNet, ResNet50, EfficientNet, DenseNet",
          "VGG16, InceptionV3, ResNet50, EfficientNet",
          "VGG16, InceptionV3, ResNet50, DenseNet",
          "VGG16, InceptionV3, EfficientNet, DenseNet",
          "VGG16, ResNet50, EfficientNet, DenseNet",
          "InceptionV3, ResNet50, EfficientNet, DenseNet",
          "AlexNet, VGG16, InceptionV3, ResNet50, EfficientNet",
          "AlexNet, VGG16, InceptionV3, ResNet50, DenseNet",
          "AlexNet, VGG16, InceptionV3, EfficientNet, DenseNet",
          "AlexNet, VGG16, ResNet50, EfficientNet, DenseNet",
          "AlexNet, InceptionV3, ResNet50, EfficientNet, DenseNet",
          "VGG16, InceptionV3, ResNet50, EfficientNet, DenseNet",
          "AlexNet, VGG16, InceptionV3, ResNet50, EfficientNet, DenseNet"
         ],
         "xaxis": "x",
         "y": [
          0.9400000000000001,
          0.865,
          0.9400000000000001,
          0.905,
          0.93,
          0.935,
          0.93,
          0.91,
          0.915,
          0.885,
          0.935,
          0.9,
          0.87,
          0.955,
          0.965,
          0.925,
          0.965,
          0.93,
          0.91,
          0.925,
          0.975,
          0.9400000000000001,
          0.925,
          0.92,
          0.915,
          0.905,
          0.955,
          0.92,
          0.88,
          0.925,
          0.885,
          0.86,
          0.855,
          0.965,
          0.965,
          0.925,
          0.965,
          0.9500000000000001,
          0.93,
          0.9400000000000001,
          0.88,
          0.925,
          0.935,
          0.985,
          0.9450000000000001,
          0.87,
          0.89,
          0.9,
          0.975,
          0.975,
          0.935,
          0.955,
          0.91,
          0.9500000000000001,
          0.955
         ],
         "yaxis": "y"
        }
       ],
       "layout": {
        "barmode": "group",
        "legend": {
         "title": {
          "text": "color"
         },
         "tracegroupgap": 0
        },
        "template": {
         "data": {
          "bar": [
           {
            "error_x": {
             "color": "#2a3f5f"
            },
            "error_y": {
             "color": "#2a3f5f"
            },
            "marker": {
             "line": {
              "color": "#E5ECF6",
              "width": 0.5
             },
             "pattern": {
              "fillmode": "overlay",
              "size": 10,
              "solidity": 0.2
             }
            },
            "type": "bar"
           }
          ],
          "barpolar": [
           {
            "marker": {
             "line": {
              "color": "#E5ECF6",
              "width": 0.5
             },
             "pattern": {
              "fillmode": "overlay",
              "size": 10,
              "solidity": 0.2
             }
            },
            "type": "barpolar"
           }
          ],
          "carpet": [
           {
            "aaxis": {
             "endlinecolor": "#2a3f5f",
             "gridcolor": "white",
             "linecolor": "white",
             "minorgridcolor": "white",
             "startlinecolor": "#2a3f5f"
            },
            "baxis": {
             "endlinecolor": "#2a3f5f",
             "gridcolor": "white",
             "linecolor": "white",
             "minorgridcolor": "white",
             "startlinecolor": "#2a3f5f"
            },
            "type": "carpet"
           }
          ],
          "choropleth": [
           {
            "colorbar": {
             "outlinewidth": 0,
             "ticks": ""
            },
            "type": "choropleth"
           }
          ],
          "contour": [
           {
            "colorbar": {
             "outlinewidth": 0,
             "ticks": ""
            },
            "colorscale": [
             [
              0,
              "#0d0887"
             ],
             [
              0.1111111111111111,
              "#46039f"
             ],
             [
              0.2222222222222222,
              "#7201a8"
             ],
             [
              0.3333333333333333,
              "#9c179e"
             ],
             [
              0.4444444444444444,
              "#bd3786"
             ],
             [
              0.5555555555555556,
              "#d8576b"
             ],
             [
              0.6666666666666666,
              "#ed7953"
             ],
             [
              0.7777777777777778,
              "#fb9f3a"
             ],
             [
              0.8888888888888888,
              "#fdca26"
             ],
             [
              1,
              "#f0f921"
             ]
            ],
            "type": "contour"
           }
          ],
          "contourcarpet": [
           {
            "colorbar": {
             "outlinewidth": 0,
             "ticks": ""
            },
            "type": "contourcarpet"
           }
          ],
          "heatmap": [
           {
            "colorbar": {
             "outlinewidth": 0,
             "ticks": ""
            },
            "colorscale": [
             [
              0,
              "#0d0887"
             ],
             [
              0.1111111111111111,
              "#46039f"
             ],
             [
              0.2222222222222222,
              "#7201a8"
             ],
             [
              0.3333333333333333,
              "#9c179e"
             ],
             [
              0.4444444444444444,
              "#bd3786"
             ],
             [
              0.5555555555555556,
              "#d8576b"
             ],
             [
              0.6666666666666666,
              "#ed7953"
             ],
             [
              0.7777777777777778,
              "#fb9f3a"
             ],
             [
              0.8888888888888888,
              "#fdca26"
             ],
             [
              1,
              "#f0f921"
             ]
            ],
            "type": "heatmap"
           }
          ],
          "heatmapgl": [
           {
            "colorbar": {
             "outlinewidth": 0,
             "ticks": ""
            },
            "colorscale": [
             [
              0,
              "#0d0887"
             ],
             [
              0.1111111111111111,
              "#46039f"
             ],
             [
              0.2222222222222222,
              "#7201a8"
             ],
             [
              0.3333333333333333,
              "#9c179e"
             ],
             [
              0.4444444444444444,
              "#bd3786"
             ],
             [
              0.5555555555555556,
              "#d8576b"
             ],
             [
              0.6666666666666666,
              "#ed7953"
             ],
             [
              0.7777777777777778,
              "#fb9f3a"
             ],
             [
              0.8888888888888888,
              "#fdca26"
             ],
             [
              1,
              "#f0f921"
             ]
            ],
            "type": "heatmapgl"
           }
          ],
          "histogram": [
           {
            "marker": {
             "pattern": {
              "fillmode": "overlay",
              "size": 10,
              "solidity": 0.2
             }
            },
            "type": "histogram"
           }
          ],
          "histogram2d": [
           {
            "colorbar": {
             "outlinewidth": 0,
             "ticks": ""
            },
            "colorscale": [
             [
              0,
              "#0d0887"
             ],
             [
              0.1111111111111111,
              "#46039f"
             ],
             [
              0.2222222222222222,
              "#7201a8"
             ],
             [
              0.3333333333333333,
              "#9c179e"
             ],
             [
              0.4444444444444444,
              "#bd3786"
             ],
             [
              0.5555555555555556,
              "#d8576b"
             ],
             [
              0.6666666666666666,
              "#ed7953"
             ],
             [
              0.7777777777777778,
              "#fb9f3a"
             ],
             [
              0.8888888888888888,
              "#fdca26"
             ],
             [
              1,
              "#f0f921"
             ]
            ],
            "type": "histogram2d"
           }
          ],
          "histogram2dcontour": [
           {
            "colorbar": {
             "outlinewidth": 0,
             "ticks": ""
            },
            "colorscale": [
             [
              0,
              "#0d0887"
             ],
             [
              0.1111111111111111,
              "#46039f"
             ],
             [
              0.2222222222222222,
              "#7201a8"
             ],
             [
              0.3333333333333333,
              "#9c179e"
             ],
             [
              0.4444444444444444,
              "#bd3786"
             ],
             [
              0.5555555555555556,
              "#d8576b"
             ],
             [
              0.6666666666666666,
              "#ed7953"
             ],
             [
              0.7777777777777778,
              "#fb9f3a"
             ],
             [
              0.8888888888888888,
              "#fdca26"
             ],
             [
              1,
              "#f0f921"
             ]
            ],
            "type": "histogram2dcontour"
           }
          ],
          "mesh3d": [
           {
            "colorbar": {
             "outlinewidth": 0,
             "ticks": ""
            },
            "type": "mesh3d"
           }
          ],
          "parcoords": [
           {
            "line": {
             "colorbar": {
              "outlinewidth": 0,
              "ticks": ""
             }
            },
            "type": "parcoords"
           }
          ],
          "pie": [
           {
            "automargin": true,
            "type": "pie"
           }
          ],
          "scatter": [
           {
            "fillpattern": {
             "fillmode": "overlay",
             "size": 10,
             "solidity": 0.2
            },
            "type": "scatter"
           }
          ],
          "scatter3d": [
           {
            "line": {
             "colorbar": {
              "outlinewidth": 0,
              "ticks": ""
             }
            },
            "marker": {
             "colorbar": {
              "outlinewidth": 0,
              "ticks": ""
             }
            },
            "type": "scatter3d"
           }
          ],
          "scattercarpet": [
           {
            "marker": {
             "colorbar": {
              "outlinewidth": 0,
              "ticks": ""
             }
            },
            "type": "scattercarpet"
           }
          ],
          "scattergeo": [
           {
            "marker": {
             "colorbar": {
              "outlinewidth": 0,
              "ticks": ""
             }
            },
            "type": "scattergeo"
           }
          ],
          "scattergl": [
           {
            "marker": {
             "colorbar": {
              "outlinewidth": 0,
              "ticks": ""
             }
            },
            "type": "scattergl"
           }
          ],
          "scattermapbox": [
           {
            "marker": {
             "colorbar": {
              "outlinewidth": 0,
              "ticks": ""
             }
            },
            "type": "scattermapbox"
           }
          ],
          "scatterpolar": [
           {
            "marker": {
             "colorbar": {
              "outlinewidth": 0,
              "ticks": ""
             }
            },
            "type": "scatterpolar"
           }
          ],
          "scatterpolargl": [
           {
            "marker": {
             "colorbar": {
              "outlinewidth": 0,
              "ticks": ""
             }
            },
            "type": "scatterpolargl"
           }
          ],
          "scatterternary": [
           {
            "marker": {
             "colorbar": {
              "outlinewidth": 0,
              "ticks": ""
             }
            },
            "type": "scatterternary"
           }
          ],
          "surface": [
           {
            "colorbar": {
             "outlinewidth": 0,
             "ticks": ""
            },
            "colorscale": [
             [
              0,
              "#0d0887"
             ],
             [
              0.1111111111111111,
              "#46039f"
             ],
             [
              0.2222222222222222,
              "#7201a8"
             ],
             [
              0.3333333333333333,
              "#9c179e"
             ],
             [
              0.4444444444444444,
              "#bd3786"
             ],
             [
              0.5555555555555556,
              "#d8576b"
             ],
             [
              0.6666666666666666,
              "#ed7953"
             ],
             [
              0.7777777777777778,
              "#fb9f3a"
             ],
             [
              0.8888888888888888,
              "#fdca26"
             ],
             [
              1,
              "#f0f921"
             ]
            ],
            "type": "surface"
           }
          ],
          "table": [
           {
            "cells": {
             "fill": {
              "color": "#EBF0F8"
             },
             "line": {
              "color": "white"
             }
            },
            "header": {
             "fill": {
              "color": "#C8D4E3"
             },
             "line": {
              "color": "white"
             }
            },
            "type": "table"
           }
          ]
         },
         "layout": {
          "annotationdefaults": {
           "arrowcolor": "#2a3f5f",
           "arrowhead": 0,
           "arrowwidth": 1
          },
          "autotypenumbers": "strict",
          "coloraxis": {
           "colorbar": {
            "outlinewidth": 0,
            "ticks": ""
           }
          },
          "colorscale": {
           "diverging": [
            [
             0,
             "#8e0152"
            ],
            [
             0.1,
             "#c51b7d"
            ],
            [
             0.2,
             "#de77ae"
            ],
            [
             0.3,
             "#f1b6da"
            ],
            [
             0.4,
             "#fde0ef"
            ],
            [
             0.5,
             "#f7f7f7"
            ],
            [
             0.6,
             "#e6f5d0"
            ],
            [
             0.7,
             "#b8e186"
            ],
            [
             0.8,
             "#7fbc41"
            ],
            [
             0.9,
             "#4d9221"
            ],
            [
             1,
             "#276419"
            ]
           ],
           "sequential": [
            [
             0,
             "#0d0887"
            ],
            [
             0.1111111111111111,
             "#46039f"
            ],
            [
             0.2222222222222222,
             "#7201a8"
            ],
            [
             0.3333333333333333,
             "#9c179e"
            ],
            [
             0.4444444444444444,
             "#bd3786"
            ],
            [
             0.5555555555555556,
             "#d8576b"
            ],
            [
             0.6666666666666666,
             "#ed7953"
            ],
            [
             0.7777777777777778,
             "#fb9f3a"
            ],
            [
             0.8888888888888888,
             "#fdca26"
            ],
            [
             1,
             "#f0f921"
            ]
           ],
           "sequentialminus": [
            [
             0,
             "#0d0887"
            ],
            [
             0.1111111111111111,
             "#46039f"
            ],
            [
             0.2222222222222222,
             "#7201a8"
            ],
            [
             0.3333333333333333,
             "#9c179e"
            ],
            [
             0.4444444444444444,
             "#bd3786"
            ],
            [
             0.5555555555555556,
             "#d8576b"
            ],
            [
             0.6666666666666666,
             "#ed7953"
            ],
            [
             0.7777777777777778,
             "#fb9f3a"
            ],
            [
             0.8888888888888888,
             "#fdca26"
            ],
            [
             1,
             "#f0f921"
            ]
           ]
          },
          "colorway": [
           "#636efa",
           "#EF553B",
           "#00cc96",
           "#ab63fa",
           "#FFA15A",
           "#19d3f3",
           "#FF6692",
           "#B6E880",
           "#FF97FF",
           "#FECB52"
          ],
          "font": {
           "color": "#2a3f5f"
          },
          "geo": {
           "bgcolor": "white",
           "lakecolor": "white",
           "landcolor": "#E5ECF6",
           "showlakes": true,
           "showland": true,
           "subunitcolor": "white"
          },
          "hoverlabel": {
           "align": "left"
          },
          "hovermode": "closest",
          "mapbox": {
           "style": "light"
          },
          "paper_bgcolor": "white",
          "plot_bgcolor": "#E5ECF6",
          "polar": {
           "angularaxis": {
            "gridcolor": "white",
            "linecolor": "white",
            "ticks": ""
           },
           "bgcolor": "#E5ECF6",
           "radialaxis": {
            "gridcolor": "white",
            "linecolor": "white",
            "ticks": ""
           }
          },
          "scene": {
           "xaxis": {
            "backgroundcolor": "#E5ECF6",
            "gridcolor": "white",
            "gridwidth": 2,
            "linecolor": "white",
            "showbackground": true,
            "ticks": "",
            "zerolinecolor": "white"
           },
           "yaxis": {
            "backgroundcolor": "#E5ECF6",
            "gridcolor": "white",
            "gridwidth": 2,
            "linecolor": "white",
            "showbackground": true,
            "ticks": "",
            "zerolinecolor": "white"
           },
           "zaxis": {
            "backgroundcolor": "#E5ECF6",
            "gridcolor": "white",
            "gridwidth": 2,
            "linecolor": "white",
            "showbackground": true,
            "ticks": "",
            "zerolinecolor": "white"
           }
          },
          "shapedefaults": {
           "line": {
            "color": "#2a3f5f"
           }
          },
          "ternary": {
           "aaxis": {
            "gridcolor": "white",
            "linecolor": "white",
            "ticks": ""
           },
           "baxis": {
            "gridcolor": "white",
            "linecolor": "white",
            "ticks": ""
           },
           "bgcolor": "#E5ECF6",
           "caxis": {
            "gridcolor": "white",
            "linecolor": "white",
            "ticks": ""
           }
          },
          "title": {
           "x": 0.05
          },
          "xaxis": {
           "automargin": true,
           "gridcolor": "white",
           "linecolor": "white",
           "ticks": "",
           "title": {
            "standoff": 15
           },
           "zerolinecolor": "white",
           "zerolinewidth": 2
          },
          "yaxis": {
           "automargin": true,
           "gridcolor": "white",
           "linecolor": "white",
           "ticks": "",
           "title": {
            "standoff": 15
           },
           "zerolinecolor": "white",
           "zerolinewidth": 2
          }
         }
        },
        "title": {
         "text": "Comparison of Model Accuracies with and without PCA"
        },
        "xaxis": {
         "anchor": "y",
         "domain": [
          0,
          1
         ],
         "title": {
          "text": "Models"
         }
        },
        "yaxis": {
         "anchor": "x",
         "domain": [
          0,
          1
         ],
         "title": {
          "text": "Accuracy"
         }
        }
       }
      }
     },
     "metadata": {},
     "output_type": "display_data"
    }
   ],
   "source": [
    "import plotly.express as px\n",
    "\n",
    "# Accuracy values without PCA\n",
    "accuracy_without_pca = [accuracy for _, accuracy in accurate_combinations_without_pca]\n",
    "\n",
    "# Accuracy values with PCA\n",
    "accuracy_with_pca = [accuracy for _, accuracy in accurate_combinations_with_pca]\n",
    "\n",
    "# Models\n",
    "model_names_without_pca = [\", \".join(combination) for combination, _ in accurate_combinations_without_pca]\n",
    "model_names_with_pca = [\", \".join(combination) for combination, _ in accurate_combinations_with_pca]\n",
    "\n",
    "# Create a grouped bar chart\n",
    "fig = px.bar(x=model_names_without_pca + model_names_with_pca,\n",
    "             y=accuracy_without_pca + accuracy_with_pca,\n",
    "             color=['Without PCA'] * len(model_names_without_pca) + ['With PCA'] * len(model_names_with_pca),\n",
    "             barmode='group',\n",
    "             labels={'y': 'Accuracy', 'x': 'Models'},\n",
    "             title='Comparison of Model Accuracies with and without PCA')\n",
    "\n",
    "# Show the plot\n",
    "fig.show()\n"
   ]
  },
  {
   "cell_type": "code",
   "execution_count": 18,
   "metadata": {},
   "outputs": [
    {
     "data": {
      "image/png": "[encoded data removed]",
      "text/plain": [
       "<Figure size 1000x600 with 1 Axes>"
      ]
     },
     "metadata": {},
     "output_type": "display_data"
    }
   ],
   "source": [
    "import matplotlib.pyplot as plt\n",
    "\n",
    "# Sort accurate combinations based on accuracies\n",
    "accurate_combinations_with_pca.sort(key=lambda x: x[1], reverse=True)\n",
    "accurate_combinations_without_pca.sort(key=lambda x: x[1], reverse=True)\n",
    "\n",
    "# Calculate cumulative sum of accuracies\n",
    "cumulative_accuracy_with_pca = [0] + list(np.cumsum([accuracy for _, accuracy in accurate_combinations_with_pca]))\n",
    "cumulative_accuracy_without_pca = [0] + list(np.cumsum([accuracy for _, accuracy in accurate_combinations_without_pca]))\n",
    "\n",
    "# Calculate AUC\n",
    "auc_with_pca = np.trapz(cumulative_accuracy_with_pca, dx=1)\n",
    "auc_without_pca = np.trapz(cumulative_accuracy_without_pca, dx=1)\n",
    "\n",
    "# Plot ACE curve\n",
    "plt.figure(figsize=(10, 6))\n",
    "plt.plot(cumulative_accuracy_with_pca, label=f'With PCA (AUC = {auc_with_pca:.2f})', marker='o')\n",
    "plt.plot(cumulative_accuracy_without_pca, label=f'Without PCA (AUC = {auc_without_pca:.2f})', marker='o')\n",
    "plt.xlabel('Number of Combinations')\n",
    "plt.ylabel('Cumulative Accuracy')\n",
    "plt.title('ACE Curve')\n",
    "plt.legend()\n",
    "plt.grid(True)\n",
    "plt.show()\n"
   ]
  }
 ],
 "metadata": {
  "kernelspec": {
   "display_name": "base",
   "language": "python",
   "name": "python3"
  },
  "language_info": {
   "codemirror_mode": {
    "name": "ipython",
    "version": 3
   },
   "file_extension": ".py",
   "mimetype": "text/x-python",
   "name": "python",
   "nbconvert_exporter": "python",
   "pygments_lexer": "ipython3",
   "version": "3.10.9"
  }
 },
 "nbformat": 4,
 "nbformat_minor": 2
}
