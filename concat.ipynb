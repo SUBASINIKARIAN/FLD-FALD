{
 "cells": [
  {
   "cell_type": "markdown",
   "metadata": {},
   "source": [
    "FEATURES (BEFORE PCA) CONCATENATION"
   ]
  },
  {
   "cell_type": "code",
   "execution_count": 39,
   "metadata": {},
   "outputs": [
    {
     "name": "stdout",
     "output_type": "stream",
     "text": [
      "1152\n",
      "1152\n"
     ]
    }
   ],
   "source": [
    "import os\n",
    "import numpy as np\n",
    "\n",
    "def load_data(root_folder, user_id, model_name, label):\n",
    "    features_list = []\n",
    "    labels_list = []\n",
    "\n",
    "    folder_path = os.path.join(root_folder, f\"u{user_id.zfill(2)}\", model_name)\n",
    "\n",
    "    for filename in os.listdir(folder_path):\n",
    "        if filename.endswith(\".npy\"):\n",
    "            filepath = os.path.join(folder_path, filename)\n",
    "            feature = np.load(filepath, allow_pickle=True)\n",
    "\n",
    "            # Ensure the feature has consistent shape (adjust based on your data)\n",
    "            if feature.shape == ():\n",
    "                continue  # Skip empty features\n",
    "\n",
    "            # Flatten the feature to a one-dimensional array if necessary\n",
    "            feature = np.ravel(feature)\n",
    "\n",
    "            features_list.append(feature)\n",
    "            labels_list.append(label)\n",
    "\n",
    "    return features_list, labels_list\n",
    "\n",
    "root_folder = \"D:/rp/dataset/ATVFS/features_new\" \n",
    "\n",
    "fake_models = [\"fake_feature_densenet121\", \"fake_feature_efficientnetb0\", \"fake_feature_resnet50\",\"fake_feature_alexnet\",\n",
    "                \"fake_feature_inceptionv3\", \"fake_feature_vgg16\"]\n",
    "original_models = [\"original_feature_densenet121\", \"original_feature_efficientnetb0\",  \"original_feature_resnet50\",\n",
    "                   \"original_feature_alexnet\", \"original_feature_inceptionv3\", \"original_feature_vgg16\"]\n",
    "\n",
    "# Load features and labels for fake data\n",
    "fake_features_list = []\n",
    "fake_labels_list = []\n",
    "\n",
    "for user_id in range(1, 5):  # Assuming user IDs u01 to u04\n",
    "    for model_name in fake_models:\n",
    "        features, labels = load_data(root_folder, str(user_id).zfill(2), model_name, label=0)\n",
    "        fake_features_list.extend(features)\n",
    "        fake_labels_list.extend(labels)\n",
    "\n",
    "# Load features and labels for original data\n",
    "original_features_list = []\n",
    "original_labels_list = []\n",
    "\n",
    "for user_id in range(1, 5):  # Assuming user IDs u01 to u04\n",
    "    for model_name in original_models:\n",
    "        features, labels = load_data(root_folder, str(user_id).zfill(2), model_name, label=1)\n",
    "        original_features_list.extend(features)\n",
    "        original_labels_list.extend(labels)\n",
    "\n",
    "# Find the maximum dimension for both fake and original features\n",
    "max_fake_dimension = max(feature.shape[0] for feature in fake_features_list)\n",
    "max_original_dimension = max(feature.shape[0] for feature in original_features_list)\n",
    "\n",
    "# Pad or reshape the features to have the same dimensions\n",
    "fake_features_list = [np.pad(feature, (0, max_fake_dimension - feature.shape[0]), 'constant') if feature.shape[0] < max_fake_dimension else feature for feature in fake_features_list]\n",
    "original_features_list = [np.pad(feature, (0, max_original_dimension - feature.shape[0]), 'constant') if feature.shape[0] < max_original_dimension else feature for feature in original_features_list]\n",
    "\n",
    "# Stack features along a new axis for both fake and original data\n",
    "all_fake_features = np.stack(fake_features_list, axis=1)  # Adjust axis if needed\n",
    "all_fake_labels = np.array(fake_labels_list)\n",
    "\n",
    "all_original_features = np.stack(original_features_list, axis=1)  # Adjust axis if needed\n",
    "all_original_labels = np.array(original_labels_list)\n",
    "\n",
    "print(len(fake_features_list))\n",
    "print(len(original_features_list))\n",
    "\n"
   ]
  },
  {
   "cell_type": "code",
   "execution_count": 40,
   "metadata": {},
   "outputs": [
    {
     "name": "stdout",
     "output_type": "stream",
     "text": [
      "[[0.         0.         0.00066743 ... 0.         0.         0.        ]\n",
      " [0.0047849  0.0075288  0.01943073 ... 0.         0.         0.        ]\n",
      " [0.         0.         0.         ... 0.         0.         0.        ]\n",
      " ...\n",
      " [0.         0.         0.         ... 0.         0.         0.        ]\n",
      " [0.         0.         0.         ... 0.         0.         0.        ]\n",
      " [0.         0.         0.         ... 0.         0.         0.        ]]\n",
      "[0 0 0 ... 0 0 0]\n",
      "[[0.         0.         0.         ... 0.         0.         0.        ]\n",
      " [0.00150675 0.00538038 0.01329131 ... 0.         0.         0.        ]\n",
      " [0.         0.         0.         ... 0.         0.         0.        ]\n",
      " ...\n",
      " [0.         0.         0.         ... 0.         0.         0.        ]\n",
      " [0.         0.         0.         ... 0.         0.         0.        ]\n",
      " [0.         0.         0.         ... 0.         0.         0.        ]]\n",
      "[1 1 1 ... 1 1 1]\n",
      "131072\n",
      "1152\n",
      "131072\n",
      "1152\n"
     ]
    }
   ],
   "source": [
    "print(all_fake_features)\n",
    "print(all_fake_labels)\n",
    "print(all_original_features)\n",
    "print(all_original_labels)\n",
    "print(len(all_fake_features))\n",
    "print(len(all_fake_labels))\n",
    "print(len(all_original_features))\n",
    "print(len(all_original_labels))"
   ]
  },
  {
   "cell_type": "code",
   "execution_count": 41,
   "metadata": {},
   "outputs": [
    {
     "name": "stdout",
     "output_type": "stream",
     "text": [
      "[[1.0000000e+00 7.0014352e-01 7.0671576e-01 ... 4.6463036e-05\n",
      "  4.1350449e-06 2.7574189e-03]\n",
      " [7.0014352e-01 1.0000000e+00 6.4843917e-01 ... 4.8052181e-05\n",
      "  4.1259300e-06 2.8378163e-03]\n",
      " [7.0671576e-01 6.4843917e-01 1.0000000e+00 ... 4.7974750e-05\n",
      "  4.2467759e-06 2.8834499e-03]\n",
      " ...\n",
      " [4.6463036e-05 4.8052181e-05 4.7974750e-05 ... 1.0000000e+00\n",
      "  1.3993655e-05 1.0063327e-05]\n",
      " [4.1350449e-06 4.1259300e-06 4.2467759e-06 ... 1.3993655e-05\n",
      "  1.0000000e+00 9.0996423e-07]\n",
      " [2.7574189e-03 2.8378163e-03 2.8834499e-03 ... 1.0063327e-05\n",
      "  9.0996423e-07 1.0000000e+00]]\n",
      "[[1.0000000e+00 7.8205645e-01 7.8597564e-01 ... 4.7976174e-04\n",
      "  1.2182771e-03 2.2377873e-04]\n",
      " [7.8205645e-01 1.0000000e+00 8.0275476e-01 ... 4.4002640e-04\n",
      "  1.1147797e-03 2.0641035e-04]\n",
      " [7.8597564e-01 8.0275476e-01 1.0000000e+00 ... 4.2376795e-04\n",
      "  1.0552508e-03 1.9668184e-04]\n",
      " ...\n",
      " [4.7976174e-04 4.4002640e-04 4.2376795e-04 ... 1.0000000e+00\n",
      "  1.4918220e-03 2.8085927e-02]\n",
      " [1.2182771e-03 1.1147797e-03 1.0552508e-03 ... 1.4918220e-03\n",
      "  1.0000000e+00 1.9238378e-03]\n",
      " [2.2377873e-04 2.0641035e-04 1.9668184e-04 ... 2.8085927e-02\n",
      "  1.9238378e-03 1.0000000e+00]]\n",
      "1152\n",
      "1152\n"
     ]
    }
   ],
   "source": [
    "from sklearn.metrics.pairwise import rbf_kernel\n",
    "\n",
    "# Set the gamma parameter for the RBF kernel (you might need to adjust this)\n",
    "gamma = 1.0 / all_fake_features.shape[0]  # Adjust gamma as needed\n",
    "gamma = 1.0 / all_original_features.shape[0]\n",
    "# Apply RBF kernel to fake features\n",
    "all_fake_features = rbf_kernel(all_fake_features.T, gamma=gamma)\n",
    "\n",
    "# Apply RBF kernel to original features\n",
    "all_original_features = rbf_kernel(all_original_features.T, gamma=gamma)\n",
    "\n",
    "\n",
    "print(all_fake_features)\n",
    "print(all_original_features)\n",
    "print(len(all_fake_features))\n",
    "print(len(all_original_features))\n"
   ]
  },
  {
   "cell_type": "code",
   "execution_count": 42,
   "metadata": {},
   "outputs": [
    {
     "data": {
      "image/png": "[encoded data removed]",
      "text/plain": [
       "<Figure size 1200x600 with 4 Axes>"
      ]
     },
     "metadata": {},
     "output_type": "display_data"
    }
   ],
   "source": [
    "import matplotlib.pyplot as plt\n",
    "import seaborn as sns\n",
    "\n",
    "# Plot RBF kernel matrices\n",
    "plt.figure(figsize=(12, 6))\n",
    "\n",
    "# Plot RBF kernel for fake features\n",
    "plt.subplot(1, 2, 1)\n",
    "sns.heatmap(all_fake_features[:100, :100], cmap='viridis')\n",
    "plt.title('RBF Kernel for Fake Features (Subset)')\n",
    "plt.xlabel('Sample Index')\n",
    "plt.ylabel('Sample Index')\n",
    "\n",
    "# Plot RBF kernel for original features\n",
    "plt.subplot(1, 2, 2)\n",
    "sns.heatmap(all_original_features[:100, :100], cmap='viridis')\n",
    "plt.title('RBF Kernel for Original Features (Subset)')\n",
    "plt.xlabel('Sample Index')\n",
    "plt.ylabel('Sample Index')\n",
    "\n",
    "plt.tight_layout()\n",
    "plt.show()"
   ]
  },
  {
   "cell_type": "code",
   "execution_count": 43,
   "metadata": {},
   "outputs": [],
   "source": [
    "# Save fake features and labels\n",
    "np.save(\"./EDRAIV/all_fake_features.npy\", all_fake_features)\n",
    "np.save(\"./EDRAIV/all_fake_labels.npy\", all_fake_labels)\n",
    "\n",
    "# Save original features and labels\n",
    "np.save(\"./EDRAIV/all_original_features.npy\", all_original_features)\n",
    "np.save(\"./EDRAIV/all_original_labels.npy\", all_original_labels)\n"
   ]
  },
  {
   "cell_type": "markdown",
   "metadata": {},
   "source": [
    "PCA APPLIED FOR CONCATENATED LIST"
   ]
  },
  {
   "cell_type": "code",
   "execution_count": 44,
   "metadata": {},
   "outputs": [
    {
     "name": "stdout",
     "output_type": "stream",
     "text": [
      "Desired number of components to retain 95.0% variance: 2\n"
     ]
    }
   ],
   "source": [
    "import os\n",
    "import numpy as np\n",
    "from sklearn.decomposition import PCA\n",
    "\n",
    "# Apply PCA to fake features\n",
    "pca_fake = PCA()\n",
    "pca_fake.fit(all_fake_features)\n",
    "\n",
    "pca_original = PCA()\n",
    "pca_original.fit(all_original_features)\n",
    "\n",
    "# Calculate cumulative explained variance\n",
    "cumulative_explained_variance = np.cumsum(pca_fake.explained_variance_ratio_)\n",
    "\n",
    "# Find the number of components to retain 95% of the variance\n",
    "desired_variance_ratio = 0.95\n",
    "desired_components = np.argmax(cumulative_explained_variance >= desired_variance_ratio) + 1\n",
    "\n",
    "print(f\"Desired number of components to retain {desired_variance_ratio * 100}% variance: {desired_components}\")\n",
    "\n",
    "# Apply PCA with the desired number of components\n",
    "pca_fake = PCA(n_components=desired_components)\n",
    "pca_fake_features = pca_fake.fit_transform(all_fake_features)\n",
    "\n",
    "pca_original = PCA(n_components=desired_components)\n",
    "pca_original_features = pca_fake.fit_transform(all_original_features)\n",
    "\n"
   ]
  },
  {
   "cell_type": "code",
   "execution_count": 45,
   "metadata": {},
   "outputs": [
    {
     "data": {
      "image/png": "[encoded data removed]",
      "text/plain": [
       "<Figure size 1000x800 with 1 Axes>"
      ]
     },
     "metadata": {},
     "output_type": "display_data"
    }
   ],
   "source": [
    "import matplotlib.pyplot as plt\n",
    "\n",
    "# Project fake features onto the 2D space\n",
    "pca_fake_2d = PCA(n_components=2)\n",
    "fake_features_2d = pca_fake_2d.fit_transform(all_fake_features)\n",
    "\n",
    "# Project original features onto the 2D space\n",
    "pca_original_2d = PCA(n_components=2)\n",
    "original_features_2d = pca_original_2d.fit_transform(all_original_features)\n",
    "\n",
    "# Plot PCA results\n",
    "plt.figure(figsize=(10, 8))\n",
    "plt.scatter(fake_features_2d[:, 0], fake_features_2d[:, 1], label='Fake Features', alpha=0.5)\n",
    "plt.scatter(original_features_2d[:, 0], original_features_2d[:, 1], label='Original Features', alpha=0.5)\n",
    "plt.title('PCA Visualization (2D)')\n",
    "plt.xlabel('Principal Component 1')\n",
    "plt.ylabel('Principal Component 2')\n",
    "plt.legend()\n",
    "plt.grid(True)\n",
    "plt.show()\n"
   ]
  },
  {
   "cell_type": "code",
   "execution_count": 46,
   "metadata": {},
   "outputs": [
    {
     "name": "stdout",
     "output_type": "stream",
     "text": [
      "1152\n",
      "1152\n",
      "Number of features after PCA: 2\n",
      "Number of features after PCA: 2\n"
     ]
    }
   ],
   "source": [
    "print(len(pca_fake_features))\n",
    "print(len(pca_original_features))\n",
    "print(f\"Number of features after PCA: {pca_fake_features.shape[1]}\")\n",
    "print(f\"Number of features after PCA: {pca_original_features.shape[1]}\")"
   ]
  },
  {
   "cell_type": "code",
   "execution_count": 47,
   "metadata": {},
   "outputs": [],
   "source": [
    "np.save(\"./EDRAIV/all_fake_features_pca.npy\", pca_fake_features)\n",
    "\n",
    "np.save(\"./EDRAIV/all_original_features_pca.npy\", pca_original_features)\n"
   ]
  },
  {
   "cell_type": "markdown",
   "metadata": {},
   "source": [
    "SVM CLASSIFIER - feature concatenation+pca"
   ]
  },
  {
   "cell_type": "code",
   "execution_count": 48,
   "metadata": {},
   "outputs": [
    {
     "name": "stdout",
     "output_type": "stream",
     "text": [
      "SVM Accuracy: 80.69%\n"
     ]
    }
   ],
   "source": [
    "import numpy as np\n",
    "from sklearn.model_selection import train_test_split\n",
    "from sklearn.svm import SVC\n",
    "from sklearn.metrics import accuracy_score\n",
    "\n",
    "fake_features = np.load(\"./EDRAIV/all_fake_features.npy\")\n",
    "original_features = np.load(\"./EDRAIV/all_original_features.npy\")\n",
    "\n",
    "fake_labels = np.load(\"./EDRAIV/all_fake_labels.npy\")\n",
    "original_labels = np.load(\"./EDRAIV/all_original_labels.npy\")\n",
    "\n",
    "all_features = np.concatenate((fake_features, original_features), axis=0)\n",
    "all_labels = np.concatenate((fake_labels, original_labels), axis=0)\n",
    "\n",
    "all_features_reshaped = all_features[:2304, :]\n",
    "\n",
    "X_train, X_test, y_train, y_test = train_test_split(all_features_reshaped, all_labels, test_size=0.2, random_state=42)\n",
    "\n",
    "X_train_svm = X_train.reshape(X_train.shape[0], -1) \n",
    "X_test_svm = X_test.reshape(X_test.shape[0], -1)\n",
    "\n",
    "svm_classifier = SVC(kernel='linear')\n",
    "svm_classifier.fit(X_train_svm, y_train)\n",
    "\n",
    "y_pred_svm = svm_classifier.predict(X_test_svm)\n",
    "\n",
    "accuracy_svm_4 = accuracy_score(y_test, y_pred_svm)\n",
    "print(f\"SVM Accuracy: {accuracy_svm_4 * 100:.2f}%\")\n",
    "\n",
    "# import numpy as np\n",
    "# from sklearn.model_selection import train_test_split\n",
    "# from sklearn.svm import SVC\n",
    "# from sklearn.metrics import accuracy_score\n",
    "\n",
    "# fake_features = np.load(\"./EDRAIV/all_fake_features.npy\")\n",
    "# original_features = np.load(\"./EDRAIV/all_original_features.npy\")\n",
    "\n",
    "# fake_labels = np.load(\"./EDRAIV/all_fake_labels.npy\")\n",
    "# original_labels = np.load(\"./EDRAIV/all_original_labels.npy\")\n",
    "\n",
    "# # Adjust the size of the arrays to match along dimension 1 (number of features)\n",
    "# min_num_features = min(fake_features.shape[1], original_features.shape[1])\n",
    "# fake_features = fake_features[:, :min_num_features]\n",
    "# original_features = original_features[:, :min_num_features]\n",
    "\n",
    "# all_features = np.concatenate((fake_features, original_features), axis=0)\n",
    "# all_labels = np.concatenate((fake_labels, original_labels), axis=0)\n",
    "\n",
    "# all_features_reshaped = all_features[:2304, :]\n",
    "\n",
    "# X_train, X_test, y_train, y_test = train_test_split(all_features_reshaped, all_labels, test_size=0.2, random_state=42)\n",
    "\n",
    "# X_train_svm = X_train.reshape(X_train.shape[0], -1) \n",
    "# X_test_svm = X_test.reshape(X_test.shape[0], -1)\n",
    "\n",
    "# svm_classifier = SVC(kernel='linear')\n",
    "# svm_classifier.fit(X_train_svm, y_train)\n",
    "\n",
    "# y_pred_svm = svm_classifier.predict(X_test_svm)\n",
    "\n",
    "# accuracy_svm_4 = accuracy_score(y_test, y_pred_svm)\n",
    "# print(f\"SVM Accuracy: {accuracy_svm_4 * 100:.2f}%\")\n"
   ]
  },
  {
   "cell_type": "code",
   "execution_count": 49,
   "metadata": {},
   "outputs": [
    {
     "data": {
      "image/png": "[encoded data removed]",
      "text/plain": [
       "<Figure size 800x600 with 2 Axes>"
      ]
     },
     "metadata": {},
     "output_type": "display_data"
    }
   ],
   "source": [
    "import matplotlib.pyplot as plt\n",
    "import seaborn as sns\n",
    "from sklearn.metrics import confusion_matrix\n",
    "\n",
    "# Calculate confusion matrix\n",
    "conf_mat = confusion_matrix(y_test, y_pred_svm)\n",
    "\n",
    "# Plot confusion matrix as a heatmap\n",
    "plt.figure(figsize=(8, 6))\n",
    "sns.heatmap(conf_mat, annot=True, fmt=\"d\", cmap=\"Blues\")\n",
    "plt.title(\"Confusion Matrix\")\n",
    "plt.xlabel(\"Predicted labels\")\n",
    "plt.ylabel(\"True labels\")\n",
    "plt.show()"
   ]
  },
  {
   "cell_type": "code",
   "execution_count": 50,
   "metadata": {},
   "outputs": [
    {
     "name": "stdout",
     "output_type": "stream",
     "text": [
      "Features shape: (2304, 1152)\n",
      "Labels shape: (2304,)\n"
     ]
    }
   ],
   "source": [
    "print(\"Features shape:\", all_features.shape)\n",
    "print(\"Labels shape:\", all_labels.shape)\n"
   ]
  },
  {
   "cell_type": "markdown",
   "metadata": {},
   "source": [
    "SVM CLASSIFIER - pca applied feature concatenation"
   ]
  },
  {
   "cell_type": "code",
   "execution_count": 51,
   "metadata": {},
   "outputs": [
    {
     "name": "stdout",
     "output_type": "stream",
     "text": [
      "SVM Accuracy: 48.37%\n"
     ]
    }
   ],
   "source": [
    "import numpy as np\n",
    "from sklearn.model_selection import train_test_split\n",
    "from sklearn.svm import SVC\n",
    "from sklearn.metrics import accuracy_score\n",
    "\n",
    "# Load features and labels\n",
    "fake_features = np.load(\"./EDRAIV/all_fake_features_pca.npy\")\n",
    "original_features = np.load(\"./EDRAIV/all_original_features_pca.npy\")\n",
    "\n",
    "fake_labels = np.load(\"./EDRAIV/all_fake_labels.npy\")\n",
    "original_labels = np.load(\"./EDRAIV/all_original_labels.npy\")\n",
    "\n",
    "# Combine features and labels\n",
    "all_features = np.concatenate((fake_features, original_features), axis=0)\n",
    "all_labels = np.concatenate((fake_labels, original_labels), axis=0)\n",
    "\n",
    "# Reshape features to match the number of labels\n",
    "all_features_reshaped = all_features[:2304, :]\n",
    "\n",
    "# Now you can proceed to split the data\n",
    "X_train, X_test, y_train, y_test = train_test_split(all_features_reshaped, all_labels, test_size=0.2, random_state=42)\n",
    "\n",
    "# Reshape features for SVM\n",
    "X_train_svm = X_train.reshape(X_train.shape[0], -1)  # Flatten the features\n",
    "X_test_svm = X_test.reshape(X_test.shape[0], -1)\n",
    "\n",
    "# Train the SVM classifier\n",
    "svm_classifier = SVC(kernel='linear')\n",
    "svm_classifier.fit(X_train_svm, y_train)\n",
    "\n",
    "# Make predictions on the test set\n",
    "y_pred_svm = svm_classifier.predict(X_test_svm)\n",
    "\n",
    "# Evaluate the SVM model\n",
    "accuracy_svm_pca_4 = accuracy_score(y_test, y_pred_svm)\n",
    "print(f\"SVM Accuracy: {accuracy_svm_pca_4 * 100:.2f}%\")\n"
   ]
  },
  {
   "cell_type": "markdown",
   "metadata": {},
   "source": [
    "3 models efficientnet,resnet,densenet"
   ]
  },
  {
   "cell_type": "code",
   "execution_count": 52,
   "metadata": {},
   "outputs": [],
   "source": [
    "import os\n",
    "import numpy as np\n",
    "\n",
    "def load_data(root_folder, user_id, model_name, label):\n",
    "    features_list = []\n",
    "    labels_list = []\n",
    "\n",
    "    folder_path = os.path.join(root_folder, f\"u{user_id.zfill(2)}\", model_name)\n",
    "\n",
    "    for filename in os.listdir(folder_path):\n",
    "        if filename.endswith(\".npy\"):\n",
    "            filepath = os.path.join(folder_path, filename)\n",
    "            feature = np.load(filepath, allow_pickle=True)\n",
    "\n",
    "            # Ensure the feature has consistent shape (adjust based on your data)\n",
    "            if feature.shape == ():\n",
    "                continue  # Skip empty features\n",
    "\n",
    "            # Flatten the feature to a one-dimensional array if necessary\n",
    "            feature = np.ravel(feature)\n",
    "\n",
    "            features_list.append(feature)\n",
    "            labels_list.append(label)\n",
    "\n",
    "    return features_list, labels_list\n",
    "\n",
    "root_folder = \"D:/rp/dataset/ATVFS/features_new\" \n",
    "\n",
    "\n",
    "fake_models = [\"fake_feature_densenet121\", \"fake_feature_efficientnetb0\", \"fake_feature_resnet50\",\"fake_feature_alexnet\",\"fake_feature_vgg16\"]\n",
    "original_models = [\"original_feature_densenet121\", \"original_feature_efficientnetb0\", \"original_feature_resnet50\",\"original_feature_alexnet\",\"original_feature_vgg16\"]\n",
    "\n",
    "# Load features and labels for fake data\n",
    "fake_features_list = []\n",
    "fake_labels_list = []\n",
    "\n",
    "for user_id in range(1, 5):  # Assuming user IDs u01 to u04\n",
    "    for model_name in fake_models:\n",
    "        features, labels = load_data(root_folder, str(user_id).zfill(2), model_name, label=0)\n",
    "        fake_features_list.extend(features)\n",
    "        fake_labels_list.extend(labels)\n",
    "\n",
    "# Load features and labels for original data\n",
    "original_features_list = []\n",
    "original_labels_list = []\n",
    "\n",
    "for user_id in range(1, 5):  # Assuming user IDs u01 to u04\n",
    "    for model_name in original_models:\n",
    "        features, labels = load_data(root_folder, str(user_id).zfill(2), model_name, label=1)\n",
    "        original_features_list.extend(features)\n",
    "        original_labels_list.extend(labels)\n",
    "\n",
    "# Find the maximum dimension for both fake and original features\n",
    "max_fake_dimension = max(feature.shape[0] for feature in fake_features_list)\n",
    "max_original_dimension = max(feature.shape[0] for feature in original_features_list)\n",
    "\n",
    "# Pad or reshape the features to have the same dimensions\n",
    "fake_features_list = [np.pad(feature, (0, max_fake_dimension - feature.shape[0]), 'constant') if feature.shape[0] < max_fake_dimension else feature for feature in fake_features_list]\n",
    "original_features_list = [np.pad(feature, (0, max_original_dimension - feature.shape[0]), 'constant') if feature.shape[0] < max_original_dimension else feature for feature in original_features_list]\n",
    "\n",
    "# Stack features along a new axis for both fake and original data\n",
    "all_fake_features_2 = np.stack(fake_features_list, axis=1)  # Adjust axis if needed\n",
    "all_fake_labels_2 = np.array(fake_labels_list)\n",
    "\n",
    "all_original_features_2 = np.stack(original_features_list, axis=1)  # Adjust axis if needed\n",
    "all_original_labels_2 = np.array(original_labels_list)\n",
    "\n",
    "# Use the stacked features and labels for further processing or classification\n",
    "\n"
   ]
  },
  {
   "cell_type": "code",
   "execution_count": 53,
   "metadata": {},
   "outputs": [
    {
     "name": "stdout",
     "output_type": "stream",
     "text": [
      "1152\n",
      "1152\n",
      "1152\n",
      "1152\n"
     ]
    }
   ],
   "source": [
    "print(len(all_fake_features))\n",
    "print(len(all_fake_labels))\n",
    "print(len(all_original_features))\n",
    "print(len(all_original_labels))"
   ]
  },
  {
   "cell_type": "code",
   "execution_count": 54,
   "metadata": {},
   "outputs": [
    {
     "name": "stdout",
     "output_type": "stream",
     "text": [
      "[[1.         0.99954426 0.9996324  ... 0.8422228  0.8421974  0.84394723]\n",
      " [0.99954426 1.         0.9990576  ... 0.83639455 0.8363688  0.8381444 ]\n",
      " [0.9996324  0.9990576  1.         ... 0.840262   0.8402366  0.84198624]\n",
      " ...\n",
      " [0.8422228  0.83639455 0.840262   ... 1.         0.9982655  0.99825823]\n",
      " [0.8421974  0.8363688  0.8402366  ... 0.9982655  1.         0.9982581 ]\n",
      " [0.84394723 0.8381444  0.84198624 ... 0.99825823 0.9982581  1.        ]]\n",
      "[[1.         0.9989738  0.9974639  ... 0.82837963 0.82880723 0.8282272 ]\n",
      " [0.9989738  1.         0.9993834  ... 0.8453723  0.8457815  0.84522676]\n",
      " [0.9974639  0.9993834  1.         ... 0.8557643  0.85616    0.85562366]\n",
      " ...\n",
      " [0.82837963 0.8453723  0.8557643  ... 1.         0.998269   0.9983613 ]\n",
      " [0.82880723 0.8457815  0.85616    ... 0.998269   1.         0.99827033]\n",
      " [0.8282272  0.84522676 0.85562366 ... 0.9983613  0.99827033 1.        ]]\n",
      "1152\n",
      "1152\n"
     ]
    }
   ],
   "source": [
    "from sklearn.metrics.pairwise import rbf_kernel\n",
    "\n",
    "# Set the gamma parameter for the RBF kernel (you might need to adjust this)\n",
    "gamma = 1.0 / all_fake_features.shape[0]  # Adjust gamma as needed\n",
    "gamma = 1.0 / all_original_features.shape[0]\n",
    "# Apply RBF kernel to fake features\n",
    "all_fake_features = rbf_kernel(all_fake_features.T, gamma=gamma)\n",
    "\n",
    "# Apply RBF kernel to original features\n",
    "all_original_features = rbf_kernel(all_original_features.T, gamma=gamma)\n",
    "\n",
    "\n",
    "print(all_fake_features)\n",
    "print(all_original_features)\n",
    "print(len(all_fake_features))\n",
    "print(len(all_original_features))\n"
   ]
  },
  {
   "cell_type": "code",
   "execution_count": 55,
   "metadata": {},
   "outputs": [],
   "source": [
    "# Save fake features and labels\n",
    "np.save(\"./DERAV/all_fake_features_2.npy\", all_fake_features)\n",
    "np.save(\"./DERAV/all_fake_labels_2.npy\", all_fake_labels)\n",
    "\n",
    "# Save original features and labels\n",
    "np.save(\"./DERAV/all_original_features_2.npy\", all_original_features)\n",
    "np.save(\"./DERAV/all_original_labels_2.npy\", all_original_labels)\n"
   ]
  },
  {
   "cell_type": "code",
   "execution_count": 56,
   "metadata": {},
   "outputs": [
    {
     "name": "stdout",
     "output_type": "stream",
     "text": [
      "Desired number of components to retain 95.0% variance: 2\n"
     ]
    }
   ],
   "source": [
    "import os\n",
    "import numpy as np\n",
    "from sklearn.decomposition import PCA\n",
    "\n",
    "# Apply PCA to fake features\n",
    "pca_fake = PCA()\n",
    "pca_fake.fit(all_fake_features)\n",
    "\n",
    "pca_original = PCA()\n",
    "pca_original.fit(all_original_features)\n",
    "\n",
    "# Calculate cumulative explained variance\n",
    "cumulative_explained_variance = np.cumsum(pca_fake.explained_variance_ratio_)\n",
    "\n",
    "# Find the number of components to retain 95% of the variance\n",
    "desired_variance_ratio = 0.95\n",
    "desired_components = np.argmax(cumulative_explained_variance >= desired_variance_ratio) + 1\n",
    "\n",
    "print(f\"Desired number of components to retain {desired_variance_ratio * 100}% variance: {desired_components}\")\n",
    "\n",
    "# Apply PCA with the desired number of components\n",
    "pca_fake = PCA(n_components=desired_components)\n",
    "pca_fake_features = pca_fake.fit_transform(all_fake_features)\n",
    "\n",
    "pca_original = PCA(n_components=desired_components)\n",
    "pca_original_features = pca_fake.fit_transform(all_original_features)\n",
    "\n"
   ]
  },
  {
   "cell_type": "code",
   "execution_count": 57,
   "metadata": {},
   "outputs": [
    {
     "name": "stdout",
     "output_type": "stream",
     "text": [
      "1152\n",
      "1152\n",
      "Number of features after PCA: 2\n",
      "Number of features after PCA: 2\n"
     ]
    }
   ],
   "source": [
    "print(len(pca_fake_features))\n",
    "print(len(pca_original_features))\n",
    "print(f\"Number of features after PCA: {pca_fake_features.shape[1]}\")\n",
    "print(f\"Number of features after PCA: {pca_original_features.shape[1]}\")"
   ]
  },
  {
   "cell_type": "code",
   "execution_count": 58,
   "metadata": {},
   "outputs": [],
   "source": [
    "np.save(\"./DERIV/all_fake_features_2_pca.npy\", pca_fake_features)\n",
    "\n",
    "np.save(\"./DERIV/all_original_features_2_pca.npy\", pca_original_features)\n"
   ]
  },
  {
   "cell_type": "code",
   "execution_count": 59,
   "metadata": {},
   "outputs": [
    {
     "name": "stdout",
     "output_type": "stream",
     "text": [
      "SVM Accuracy: 80.69%\n"
     ]
    }
   ],
   "source": [
    "import numpy as np\n",
    "from sklearn.model_selection import train_test_split\n",
    "from sklearn.svm import SVC\n",
    "from sklearn.metrics import accuracy_score\n",
    "\n",
    "fake_features = np.load(\"./EDRAIV/all_fake_features.npy\")\n",
    "original_features = np.load(\"./EDRAIV/all_original_features.npy\")\n",
    "\n",
    "fake_labels = np.load(\"./EDRAIV/all_fake_labels.npy\")\n",
    "original_labels = np.load(\"./EDRAIV/all_original_labels.npy\")\n",
    "\n",
    "all_features = np.concatenate((fake_features, original_features), axis=0)\n",
    "all_labels = np.concatenate((fake_labels, original_labels), axis=0)\n",
    "\n",
    "all_features_reshaped = all_features[:2304, :]\n",
    "\n",
    "X_train, X_test, y_train, y_test = train_test_split(all_features_reshaped, all_labels, test_size=0.2, random_state=42)\n",
    "\n",
    "X_train_svm = X_train.reshape(X_train.shape[0], -1) \n",
    "X_test_svm = X_test.reshape(X_test.shape[0], -1)\n",
    "\n",
    "svm_classifier = SVC(kernel='linear')\n",
    "svm_classifier.fit(X_train_svm, y_train)\n",
    "\n",
    "y_pred_svm = svm_classifier.predict(X_test_svm)\n",
    "\n",
    "accuracy_svm_4 = accuracy_score(y_test, y_pred_svm)\n",
    "print(f\"SVM Accuracy: {accuracy_svm_4 * 100:.2f}%\")"
   ]
  },
  {
   "cell_type": "code",
   "execution_count": 60,
   "metadata": {},
   "outputs": [
    {
     "name": "stdout",
     "output_type": "stream",
     "text": [
      "SVM Accuracy: 99.12%\n"
     ]
    }
   ],
   "source": [
    "import os\n",
    "import numpy as np\n",
    "from sklearn.model_selection import train_test_split\n",
    "from sklearn.svm import SVC\n",
    "from sklearn.metrics import accuracy_score\n",
    "\n",
    "# Load features and labels\n",
    "fake_features = np.load(\"./DERAV/all_fake_features_2_pca.npy\")\n",
    "original_features = np.load(\"./DERAV/all_original_features_2_pca.npy\")\n",
    "\n",
    "fake_labels = np.load(\"./DERAV/all_fake_labels_2.npy\")\n",
    "original_labels = np.load(\"./DERAV/all_original_labels_2.npy\")\n",
    "\n",
    "# Find the minimum number of samples\n",
    "min_samples = min(fake_features.shape[0], original_features.shape[0], fake_labels.shape[0], original_labels.shape[0])\n",
    "\n",
    "# Extract the first 'min_samples' samples from both features and labels\n",
    "fake_features = fake_features[:min_samples]\n",
    "original_features = original_features[:min_samples]\n",
    "fake_labels = fake_labels[:min_samples]\n",
    "original_labels = original_labels[:min_samples]\n",
    "\n",
    "# Combine features and labels\n",
    "all_features = np.concatenate((fake_features, original_features), axis=0)\n",
    "all_labels = np.concatenate((fake_labels, original_labels), axis=0)\n",
    "\n",
    "# Now you can proceed to split the data\n",
    "X_train, X_test, y_train, y_test = train_test_split(all_features, all_labels, test_size=0.2, random_state=42)\n",
    "\n",
    "# Reshape features for SVM\n",
    "X_train_svm = X_train.reshape(X_train.shape[0], -1)  # Flatten the features\n",
    "X_test_svm = X_test.reshape(X_test.shape[0], -1)\n",
    "\n",
    "# Train the SVM classifier\n",
    "svm_classifier = SVC(kernel='linear')\n",
    "svm_classifier.fit(X_train_svm, y_train)\n",
    "\n",
    "# Make predictions on the test set\n",
    "y_pred_svm = svm_classifier.predict(X_test_svm)\n",
    "\n",
    "# Evaluate the SVM model\n",
    "accuracy_svm_pca_edr = accuracy_score(y_test, y_pred_svm)\n",
    "print(f\"SVM Accuracy: {accuracy_svm_pca_edr * 100:.2f}%\")\n"
   ]
  },
  {
   "cell_type": "markdown",
   "metadata": {},
   "source": [
    "3 models mobilenet,resnet,densenet"
   ]
  },
  {
   "cell_type": "code",
   "execution_count": 61,
   "metadata": {},
   "outputs": [],
   "source": [
    "import os\n",
    "import numpy as np\n",
    "\n",
    "def load_data(root_folder, user_id, model_name, label):\n",
    "    features_list = []\n",
    "    labels_list = []\n",
    "\n",
    "    folder_path = os.path.join(root_folder, f\"u{user_id.zfill(2)}\", model_name)\n",
    "\n",
    "    for filename in os.listdir(folder_path):\n",
    "        if filename.endswith(\".npy\"):\n",
    "            filepath = os.path.join(folder_path, filename)\n",
    "            feature = np.load(filepath, allow_pickle=True)\n",
    "\n",
    "            # Ensure the feature has consistent shape (adjust based on your data)\n",
    "            if feature.shape == ():\n",
    "                continue  # Skip empty features\n",
    "\n",
    "            # Flatten the feature to a one-dimensional array if necessary\n",
    "            feature = np.ravel(feature)\n",
    "\n",
    "            features_list.append(feature)\n",
    "            labels_list.append(label)\n",
    "\n",
    "    return features_list, labels_list\n",
    "\n",
    "root_folder = \"D:/rp/dataset/ATVFS/features_new\"  # Change this to your actual root folder\n",
    "\n",
    "# Define models for both fake and original features\n",
    "fake_models = [\"fake_feature_vgg16\", \"fake_feature_efficientnetb0\", \"fake_feature_resnet50\"]\n",
    "original_models = [\"original_feature_vgg16\", \"original_feature_efficientnetb0\", \"original_feature_resnet50\"]\n",
    "\n",
    "# Load features and labels for fake data\n",
    "fake_features_list = []\n",
    "fake_labels_list = []\n",
    "\n",
    "for user_id in range(1, 5):  # Assuming user IDs u01 to u04\n",
    "    for model_name in fake_models:\n",
    "        features, labels = load_data(root_folder, str(user_id).zfill(2), model_name, label=0)\n",
    "        fake_features_list.extend(features)\n",
    "        fake_labels_list.extend(labels)\n",
    "\n",
    "# Load features and labels for original data\n",
    "original_features_list = []\n",
    "original_labels_list = []\n",
    "\n",
    "for user_id in range(1, 5):  # Assuming user IDs u01 to u04\n",
    "    for model_name in original_models:\n",
    "        features, labels = load_data(root_folder, str(user_id).zfill(2), model_name, label=1)\n",
    "        original_features_list.extend(features)\n",
    "        original_labels_list.extend(labels)\n",
    "\n",
    "# Find the maximum dimension for both fake and original features\n",
    "max_fake_dimension = max(feature.shape[0] for feature in fake_features_list)\n",
    "max_original_dimension = max(feature.shape[0] for feature in original_features_list)\n",
    "\n",
    "# Pad or reshape the features to have the same dimensions\n",
    "fake_features_list = [np.pad(feature, (0, max_fake_dimension - feature.shape[0]), 'constant') if feature.shape[0] < max_fake_dimension else feature for feature in fake_features_list]\n",
    "original_features_list = [np.pad(feature, (0, max_original_dimension - feature.shape[0]), 'constant') if feature.shape[0] < max_original_dimension else feature for feature in original_features_list]\n",
    "\n",
    "# Stack features along a new axis for both fake and original data\n",
    "all_fake_features_3 = np.stack(fake_features_list, axis=1)  # Adjust axis if needed\n",
    "all_fake_labels_3 = np.array(fake_labels_list)\n",
    "\n",
    "all_original_features_3 = np.stack(original_features_list, axis=1)  # Adjust axis if needed\n",
    "all_original_labels_3 = np.array(original_labels_list)\n",
    "\n",
    "# Use the stacked features and labels for further processing or classification\n"
   ]
  },
  {
   "cell_type": "code",
   "execution_count": 62,
   "metadata": {},
   "outputs": [
    {
     "name": "stdout",
     "output_type": "stream",
     "text": [
      "[[0.        0.        0.        ... 0.        0.        0.       ]\n",
      " [0.        0.        0.        ... 0.        2.7268095 0.       ]\n",
      " [0.        0.        0.        ... 0.        0.        0.       ]\n",
      " ...\n",
      " [0.        0.        0.        ... 0.        0.        0.       ]\n",
      " [0.        0.        0.        ... 0.        0.        0.       ]\n",
      " [0.        0.        0.        ... 0.        0.        0.       ]]\n",
      "[0 0 0 0 0 0 0 0 0 0 0 0 0 0 0 0 0 0 0 0 0 0 0 0 0 0 0 0 0 0 0 0 0 0 0 0 0\n",
      " 0 0 0 0 0 0 0 0 0 0 0 0 0 0 0 0 0 0 0 0 0 0 0 0 0 0 0 0 0 0 0 0 0 0 0 0 0\n",
      " 0 0 0 0 0 0 0 0 0 0 0 0 0 0 0 0 0 0 0 0 0 0 0 0 0 0 0 0 0 0 0 0 0 0 0 0 0\n",
      " 0 0 0 0 0 0 0 0 0 0 0 0 0 0 0 0 0 0 0 0 0 0 0 0 0 0 0 0 0 0 0 0 0 0 0 0 0\n",
      " 0 0 0 0 0 0 0 0 0 0 0 0 0 0 0 0 0 0 0 0 0 0 0 0 0 0 0 0 0 0 0 0 0 0 0 0 0\n",
      " 0 0 0 0 0 0 0 0 0 0 0 0 0 0 0 0 0 0 0 0 0 0 0 0 0 0 0 0 0 0 0 0 0 0 0 0 0\n",
      " 0 0 0 0 0 0 0 0 0 0 0 0 0 0 0 0 0 0 0 0 0 0 0 0 0 0 0 0 0 0 0 0 0 0 0 0 0\n",
      " 0 0 0 0 0 0 0 0 0 0 0 0 0 0 0 0 0 0 0 0 0 0 0 0 0 0 0 0 0 0 0 0 0 0 0 0 0\n",
      " 0 0 0 0 0 0 0 0 0 0 0 0 0 0 0 0 0 0 0 0 0 0 0 0 0 0 0 0 0 0 0 0 0 0 0 0 0\n",
      " 0 0 0 0 0 0 0 0 0 0 0 0 0 0 0 0 0 0 0 0 0 0 0 0 0 0 0 0 0 0 0 0 0 0 0 0 0\n",
      " 0 0 0 0 0 0 0 0 0 0 0 0 0 0 0 0 0 0 0 0 0 0 0 0 0 0 0 0 0 0 0 0 0 0 0 0 0\n",
      " 0 0 0 0 0 0 0 0 0 0 0 0 0 0 0 0 0 0 0 0 0 0 0 0 0 0 0 0 0 0 0 0 0 0 0 0 0\n",
      " 0 0 0 0 0 0 0 0 0 0 0 0 0 0 0 0 0 0 0 0 0 0 0 0 0 0 0 0 0 0 0 0 0 0 0 0 0\n",
      " 0 0 0 0 0 0 0 0 0 0 0 0 0 0 0 0 0 0 0 0 0 0 0 0 0 0 0 0 0 0 0 0 0 0 0 0 0\n",
      " 0 0 0 0 0 0 0 0 0 0 0 0 0 0 0 0 0 0 0 0 0 0 0 0 0 0 0 0 0 0 0 0 0 0 0 0 0\n",
      " 0 0 0 0 0 0 0 0 0 0 0 0 0 0 0 0 0 0 0 0 0]\n",
      "[[0. 0. 0. ... 0. 0. 0.]\n",
      " [0. 0. 0. ... 0. 0. 0.]\n",
      " [0. 0. 0. ... 0. 0. 0.]\n",
      " ...\n",
      " [0. 0. 0. ... 0. 0. 0.]\n",
      " [0. 0. 0. ... 0. 0. 0.]\n",
      " [0. 0. 0. ... 0. 0. 0.]]\n",
      "[1 1 1 1 1 1 1 1 1 1 1 1 1 1 1 1 1 1 1 1 1 1 1 1 1 1 1 1 1 1 1 1 1 1 1 1 1\n",
      " 1 1 1 1 1 1 1 1 1 1 1 1 1 1 1 1 1 1 1 1 1 1 1 1 1 1 1 1 1 1 1 1 1 1 1 1 1\n",
      " 1 1 1 1 1 1 1 1 1 1 1 1 1 1 1 1 1 1 1 1 1 1 1 1 1 1 1 1 1 1 1 1 1 1 1 1 1\n",
      " 1 1 1 1 1 1 1 1 1 1 1 1 1 1 1 1 1 1 1 1 1 1 1 1 1 1 1 1 1 1 1 1 1 1 1 1 1\n",
      " 1 1 1 1 1 1 1 1 1 1 1 1 1 1 1 1 1 1 1 1 1 1 1 1 1 1 1 1 1 1 1 1 1 1 1 1 1\n",
      " 1 1 1 1 1 1 1 1 1 1 1 1 1 1 1 1 1 1 1 1 1 1 1 1 1 1 1 1 1 1 1 1 1 1 1 1 1\n",
      " 1 1 1 1 1 1 1 1 1 1 1 1 1 1 1 1 1 1 1 1 1 1 1 1 1 1 1 1 1 1 1 1 1 1 1 1 1\n",
      " 1 1 1 1 1 1 1 1 1 1 1 1 1 1 1 1 1 1 1 1 1 1 1 1 1 1 1 1 1 1 1 1 1 1 1 1 1\n",
      " 1 1 1 1 1 1 1 1 1 1 1 1 1 1 1 1 1 1 1 1 1 1 1 1 1 1 1 1 1 1 1 1 1 1 1 1 1\n",
      " 1 1 1 1 1 1 1 1 1 1 1 1 1 1 1 1 1 1 1 1 1 1 1 1 1 1 1 1 1 1 1 1 1 1 1 1 1\n",
      " 1 1 1 1 1 1 1 1 1 1 1 1 1 1 1 1 1 1 1 1 1 1 1 1 1 1 1 1 1 1 1 1 1 1 1 1 1\n",
      " 1 1 1 1 1 1 1 1 1 1 1 1 1 1 1 1 1 1 1 1 1 1 1 1 1 1 1 1 1 1 1 1 1 1 1 1 1\n",
      " 1 1 1 1 1 1 1 1 1 1 1 1 1 1 1 1 1 1 1 1 1 1 1 1 1 1 1 1 1 1 1 1 1 1 1 1 1\n",
      " 1 1 1 1 1 1 1 1 1 1 1 1 1 1 1 1 1 1 1 1 1 1 1 1 1 1 1 1 1 1 1 1 1 1 1 1 1\n",
      " 1 1 1 1 1 1 1 1 1 1 1 1 1 1 1 1 1 1 1 1 1 1 1 1 1 1 1 1 1 1 1 1 1 1 1 1 1\n",
      " 1 1 1 1 1 1 1 1 1 1 1 1 1 1 1 1 1 1 1 1 1]\n",
      "100352\n",
      "576\n",
      "100352\n",
      "576\n"
     ]
    }
   ],
   "source": [
    "print(all_fake_features_3)\n",
    "print(all_fake_labels_3)\n",
    "print(all_original_features_3)\n",
    "print(all_original_labels_3)\n",
    "print(len(all_fake_features_3))\n",
    "print(len(all_fake_labels_3))\n",
    "print(len(all_original_features_3))\n",
    "print(len(all_original_labels_3))"
   ]
  },
  {
   "cell_type": "code",
   "execution_count": 64,
   "metadata": {},
   "outputs": [],
   "source": [
    "# Save fake features and labels\n",
    "np.save(\"./MRD/all_fake_features_3.npy\", all_fake_features_3)\n",
    "np.save(\"./MRD/all_fake_labels_3.npy\", all_fake_labels_3)\n",
    "\n",
    "# Save original features and labels\n",
    "np.save(\"./MRD/all_original_features_3.npy\", all_original_features_3)\n",
    "np.save(\"./MRD/all_original_labels_3.npy\", all_original_labels_3)\n"
   ]
  },
  {
   "cell_type": "code",
   "execution_count": 65,
   "metadata": {},
   "outputs": [
    {
     "name": "stdout",
     "output_type": "stream",
     "text": [
      "Desired number of components to retain 95.0% variance: 217\n"
     ]
    }
   ],
   "source": [
    "import os\n",
    "import numpy as np\n",
    "from sklearn.decomposition import PCA\n",
    "\n",
    "# Apply PCA to fake features\n",
    "pca_fake = PCA()\n",
    "pca_fake.fit(all_fake_features_3)\n",
    "\n",
    "pca_original = PCA()\n",
    "pca_original.fit(all_original_features_3)\n",
    "\n",
    "# Calculate cumulative explained variance\n",
    "cumulative_explained_variance = np.cumsum(pca_fake.explained_variance_ratio_)\n",
    "\n",
    "# Find the number of components to retain 95% of the variance\n",
    "desired_variance_ratio = 0.95\n",
    "desired_components = np.argmax(cumulative_explained_variance >= desired_variance_ratio) + 1\n",
    "\n",
    "print(f\"Desired number of components to retain {desired_variance_ratio * 100}% variance: {desired_components}\")\n",
    "\n",
    "# Apply PCA with the desired number of components\n",
    "pca_fake = PCA(n_components=10)\n",
    "pca_fake_features = pca_fake.fit_transform(all_fake_features_3)\n",
    "\n",
    "pca_original = PCA(n_components=10)\n",
    "pca_original_features = pca_fake.fit_transform(all_original_features_3)\n",
    "\n"
   ]
  },
  {
   "cell_type": "code",
   "execution_count": null,
   "metadata": {},
   "outputs": [
    {
     "name": "stdout",
     "output_type": "stream",
     "text": [
      "100352\n",
      "100352\n",
      "Number of features after PCA: 10\n",
      "Number of features after PCA: 10\n"
     ]
    }
   ],
   "source": [
    "print(len(pca_fake_features))\n",
    "print(len(pca_original_features))\n",
    "print(f\"Number of features after PCA: {pca_fake_features.shape[1]}\")\n",
    "print(f\"Number of features after PCA: {pca_original_features.shape[1]}\")"
   ]
  },
  {
   "cell_type": "code",
   "execution_count": null,
   "metadata": {},
   "outputs": [],
   "source": [
    "np.save(\"./MRD/all_fake_features_3_pca.npy\", pca_fake_features)\n",
    "\n",
    "np.save(\"./MRD/all_original_features_3_pca.npy\", pca_original_features)\n"
   ]
  },
  {
   "cell_type": "code",
   "execution_count": null,
   "metadata": {},
   "outputs": [
    {
     "name": "stdout",
     "output_type": "stream",
     "text": [
      "SVM Accuracy: 89.18%\n"
     ]
    }
   ],
   "source": [
    "import os\n",
    "import numpy as np\n",
    "from sklearn.model_selection import train_test_split\n",
    "from sklearn.svm import SVC\n",
    "from sklearn.metrics import accuracy_score\n",
    "\n",
    "# Load features and labels\n",
    "fake_features = np.load(\"./MRD/all_fake_features_3.npy\")\n",
    "original_features = np.load(\"./MRD/all_original_features_3.npy\")\n",
    "\n",
    "fake_labels = np.load(\"./MRD/all_fake_labels_3.npy\")\n",
    "original_labels = np.load(\"./MRD/all_original_labels_3.npy\")\n",
    "\n",
    "# Find the minimum number of samples\n",
    "min_samples = min(fake_features.shape[0], original_features.shape[0], fake_labels.shape[0], original_labels.shape[0])\n",
    "\n",
    "# Extract the first 'min_samples' samples from both features and labels\n",
    "fake_features = fake_features[:min_samples]\n",
    "original_features = original_features[:min_samples]\n",
    "fake_labels = fake_labels[:min_samples]\n",
    "original_labels = original_labels[:min_samples]\n",
    "\n",
    "# Combine features and labels\n",
    "all_features = np.concatenate((fake_features, original_features), axis=0)\n",
    "all_labels = np.concatenate((fake_labels, original_labels), axis=0)\n",
    "\n",
    "# Now you can proceed to split the data\n",
    "X_train, X_test, y_train, y_test = train_test_split(all_features, all_labels, test_size=0.2, random_state=42)\n",
    "\n",
    "# Reshape features for SVM\n",
    "X_train_svm = X_train.reshape(X_train.shape[0], -1)  # Flatten the features\n",
    "X_test_svm = X_test.reshape(X_test.shape[0], -1)\n",
    "\n",
    "# Train the SVM classifier\n",
    "svm_classifier = SVC(kernel='linear')\n",
    "svm_classifier.fit(X_train_svm, y_train)\n",
    "\n",
    "# Make predictions on the test set\n",
    "y_pred_svm = svm_classifier.predict(X_test_svm)\n",
    "\n",
    "# Evaluate the SVM model\n",
    "accuracy_svm_mrd = accuracy_score(y_test, y_pred_svm)\n",
    "print(f\"SVM Accuracy: {accuracy_svm_mrd * 100:.2f}%\")\n"
   ]
  },
  {
   "cell_type": "code",
   "execution_count": null,
   "metadata": {},
   "outputs": [
    {
     "name": "stdout",
     "output_type": "stream",
     "text": [
      "SVM Accuracy: 56.71%\n"
     ]
    }
   ],
   "source": [
    "import os\n",
    "import numpy as np\n",
    "from sklearn.model_selection import train_test_split\n",
    "from sklearn.svm import SVC\n",
    "from sklearn.metrics import accuracy_score\n",
    "\n",
    "# Load features and labels\n",
    "fake_features = np.load(\"./MRD/all_fake_features_3_pca.npy\")\n",
    "original_features = np.load(\"./MRD/all_original_features_3_pca.npy\")\n",
    "\n",
    "fake_labels = np.load(\"./MRD/all_fake_labels_3.npy\")\n",
    "original_labels = np.load(\"./MRD/all_original_labels_3.npy\")\n",
    "\n",
    "# Find the minimum number of samples\n",
    "min_samples = min(fake_features.shape[0], original_features.shape[0], fake_labels.shape[0], original_labels.shape[0])\n",
    "\n",
    "# Extract the first 'min_samples' samples from both features and labels\n",
    "fake_features = fake_features[:min_samples]\n",
    "original_features = original_features[:min_samples]\n",
    "fake_labels = fake_labels[:min_samples]\n",
    "original_labels = original_labels[:min_samples]\n",
    "\n",
    "# Combine features and labels\n",
    "all_features = np.concatenate((fake_features, original_features), axis=0)\n",
    "all_labels = np.concatenate((fake_labels, original_labels), axis=0)\n",
    "\n",
    "# Now you can proceed to split the data\n",
    "X_train, X_test, y_train, y_test = train_test_split(all_features, all_labels, test_size=0.2, random_state=42)\n",
    "\n",
    "# Reshape features for SVM\n",
    "X_train_svm = X_train.reshape(X_train.shape[0], -1)  # Flatten the features\n",
    "X_test_svm = X_test.reshape(X_test.shape[0], -1)\n",
    "\n",
    "# Train the SVM classifier\n",
    "svm_classifier = SVC(kernel='linear')\n",
    "svm_classifier.fit(X_train_svm, y_train)\n",
    "\n",
    "# Make predictions on the test set\n",
    "y_pred_svm = svm_classifier.predict(X_test_svm)\n",
    "\n",
    "# Evaluate the SVM model\n",
    "accuracy_svm_pca_mrd = accuracy_score(y_test, y_pred_svm)\n",
    "print(f\"SVM Accuracy: {accuracy_svm_pca_mrd * 100:.2f}%\")\n"
   ]
  },
  {
   "cell_type": "code",
   "execution_count": null,
   "metadata": {},
   "outputs": [
    {
     "data": {
      "application/vnd.plotly.v1+json": {
       "config": {
        "plotlyServerURL": "https://plot.ly"
       },
       "data": [
        {
         "alignmentgroup": "True",
         "hovertemplate": "Models=%{x}<br>Accuracy=%{y}<extra></extra>",
         "legendgroup": "",
         "marker": {
          "color": "#636efa",
          "pattern": {
           "shape": ""
          }
         },
         "name": "",
         "offsetgroup": "",
         "orientation": "v",
         "showlegend": false,
         "textposition": "auto",
         "type": "bar",
         "x": [
          "EDMR",
          "EDM",
          "EDR",
          "MRD"
         ],
         "xaxis": "x",
         "y": [
          0.9437229437229437,
          0.9307359307359307,
          0.935064935064935,
          0.5974025974025974
         ],
         "yaxis": "y"
        }
       ],
       "layout": {
        "barmode": "group",
        "legend": {
         "tracegroupgap": 0
        },
        "template": {
         "data": {
          "bar": [
           {
            "error_x": {
             "color": "#2a3f5f"
            },
            "error_y": {
             "color": "#2a3f5f"
            },
            "marker": {
             "line": {
              "color": "#E5ECF6",
              "width": 0.5
             },
             "pattern": {
              "fillmode": "overlay",
              "size": 10,
              "solidity": 0.2
             }
            },
            "type": "bar"
           }
          ],
          "barpolar": [
           {
            "marker": {
             "line": {
              "color": "#E5ECF6",
              "width": 0.5
             },
             "pattern": {
              "fillmode": "overlay",
              "size": 10,
              "solidity": 0.2
             }
            },
            "type": "barpolar"
           }
          ],
          "carpet": [
           {
            "aaxis": {
             "endlinecolor": "#2a3f5f",
             "gridcolor": "white",
             "linecolor": "white",
             "minorgridcolor": "white",
             "startlinecolor": "#2a3f5f"
            },
            "baxis": {
             "endlinecolor": "#2a3f5f",
             "gridcolor": "white",
             "linecolor": "white",
             "minorgridcolor": "white",
             "startlinecolor": "#2a3f5f"
            },
            "type": "carpet"
           }
          ],
          "choropleth": [
           {
            "colorbar": {
             "outlinewidth": 0,
             "ticks": ""
            },
            "type": "choropleth"
           }
          ],
          "contour": [
           {
            "colorbar": {
             "outlinewidth": 0,
             "ticks": ""
            },
            "colorscale": [
             [
              0,
              "#0d0887"
             ],
             [
              0.1111111111111111,
              "#46039f"
             ],
             [
              0.2222222222222222,
              "#7201a8"
             ],
             [
              0.3333333333333333,
              "#9c179e"
             ],
             [
              0.4444444444444444,
              "#bd3786"
             ],
             [
              0.5555555555555556,
              "#d8576b"
             ],
             [
              0.6666666666666666,
              "#ed7953"
             ],
             [
              0.7777777777777778,
              "#fb9f3a"
             ],
             [
              0.8888888888888888,
              "#fdca26"
             ],
             [
              1,
              "#f0f921"
             ]
            ],
            "type": "contour"
           }
          ],
          "contourcarpet": [
           {
            "colorbar": {
             "outlinewidth": 0,
             "ticks": ""
            },
            "type": "contourcarpet"
           }
          ],
          "heatmap": [
           {
            "colorbar": {
             "outlinewidth": 0,
             "ticks": ""
            },
            "colorscale": [
             [
              0,
              "#0d0887"
             ],
             [
              0.1111111111111111,
              "#46039f"
             ],
             [
              0.2222222222222222,
              "#7201a8"
             ],
             [
              0.3333333333333333,
              "#9c179e"
             ],
             [
              0.4444444444444444,
              "#bd3786"
             ],
             [
              0.5555555555555556,
              "#d8576b"
             ],
             [
              0.6666666666666666,
              "#ed7953"
             ],
             [
              0.7777777777777778,
              "#fb9f3a"
             ],
             [
              0.8888888888888888,
              "#fdca26"
             ],
             [
              1,
              "#f0f921"
             ]
            ],
            "type": "heatmap"
           }
          ],
          "heatmapgl": [
           {
            "colorbar": {
             "outlinewidth": 0,
             "ticks": ""
            },
            "colorscale": [
             [
              0,
              "#0d0887"
             ],
             [
              0.1111111111111111,
              "#46039f"
             ],
             [
              0.2222222222222222,
              "#7201a8"
             ],
             [
              0.3333333333333333,
              "#9c179e"
             ],
             [
              0.4444444444444444,
              "#bd3786"
             ],
             [
              0.5555555555555556,
              "#d8576b"
             ],
             [
              0.6666666666666666,
              "#ed7953"
             ],
             [
              0.7777777777777778,
              "#fb9f3a"
             ],
             [
              0.8888888888888888,
              "#fdca26"
             ],
             [
              1,
              "#f0f921"
             ]
            ],
            "type": "heatmapgl"
           }
          ],
          "histogram": [
           {
            "marker": {
             "pattern": {
              "fillmode": "overlay",
              "size": 10,
              "solidity": 0.2
             }
            },
            "type": "histogram"
           }
          ],
          "histogram2d": [
           {
            "colorbar": {
             "outlinewidth": 0,
             "ticks": ""
            },
            "colorscale": [
             [
              0,
              "#0d0887"
             ],
             [
              0.1111111111111111,
              "#46039f"
             ],
             [
              0.2222222222222222,
              "#7201a8"
             ],
             [
              0.3333333333333333,
              "#9c179e"
             ],
             [
              0.4444444444444444,
              "#bd3786"
             ],
             [
              0.5555555555555556,
              "#d8576b"
             ],
             [
              0.6666666666666666,
              "#ed7953"
             ],
             [
              0.7777777777777778,
              "#fb9f3a"
             ],
             [
              0.8888888888888888,
              "#fdca26"
             ],
             [
              1,
              "#f0f921"
             ]
            ],
            "type": "histogram2d"
           }
          ],
          "histogram2dcontour": [
           {
            "colorbar": {
             "outlinewidth": 0,
             "ticks": ""
            },
            "colorscale": [
             [
              0,
              "#0d0887"
             ],
             [
              0.1111111111111111,
              "#46039f"
             ],
             [
              0.2222222222222222,
              "#7201a8"
             ],
             [
              0.3333333333333333,
              "#9c179e"
             ],
             [
              0.4444444444444444,
              "#bd3786"
             ],
             [
              0.5555555555555556,
              "#d8576b"
             ],
             [
              0.6666666666666666,
              "#ed7953"
             ],
             [
              0.7777777777777778,
              "#fb9f3a"
             ],
             [
              0.8888888888888888,
              "#fdca26"
             ],
             [
              1,
              "#f0f921"
             ]
            ],
            "type": "histogram2dcontour"
           }
          ],
          "mesh3d": [
           {
            "colorbar": {
             "outlinewidth": 0,
             "ticks": ""
            },
            "type": "mesh3d"
           }
          ],
          "parcoords": [
           {
            "line": {
             "colorbar": {
              "outlinewidth": 0,
              "ticks": ""
             }
            },
            "type": "parcoords"
           }
          ],
          "pie": [
           {
            "automargin": true,
            "type": "pie"
           }
          ],
          "scatter": [
           {
            "fillpattern": {
             "fillmode": "overlay",
             "size": 10,
             "solidity": 0.2
            },
            "type": "scatter"
           }
          ],
          "scatter3d": [
           {
            "line": {
             "colorbar": {
              "outlinewidth": 0,
              "ticks": ""
             }
            },
            "marker": {
             "colorbar": {
              "outlinewidth": 0,
              "ticks": ""
             }
            },
            "type": "scatter3d"
           }
          ],
          "scattercarpet": [
           {
            "marker": {
             "colorbar": {
              "outlinewidth": 0,
              "ticks": ""
             }
            },
            "type": "scattercarpet"
           }
          ],
          "scattergeo": [
           {
            "marker": {
             "colorbar": {
              "outlinewidth": 0,
              "ticks": ""
             }
            },
            "type": "scattergeo"
           }
          ],
          "scattergl": [
           {
            "marker": {
             "colorbar": {
              "outlinewidth": 0,
              "ticks": ""
             }
            },
            "type": "scattergl"
           }
          ],
          "scattermapbox": [
           {
            "marker": {
             "colorbar": {
              "outlinewidth": 0,
              "ticks": ""
             }
            },
            "type": "scattermapbox"
           }
          ],
          "scatterpolar": [
           {
            "marker": {
             "colorbar": {
              "outlinewidth": 0,
              "ticks": ""
             }
            },
            "type": "scatterpolar"
           }
          ],
          "scatterpolargl": [
           {
            "marker": {
             "colorbar": {
              "outlinewidth": 0,
              "ticks": ""
             }
            },
            "type": "scatterpolargl"
           }
          ],
          "scatterternary": [
           {
            "marker": {
             "colorbar": {
              "outlinewidth": 0,
              "ticks": ""
             }
            },
            "type": "scatterternary"
           }
          ],
          "surface": [
           {
            "colorbar": {
             "outlinewidth": 0,
             "ticks": ""
            },
            "colorscale": [
             [
              0,
              "#0d0887"
             ],
             [
              0.1111111111111111,
              "#46039f"
             ],
             [
              0.2222222222222222,
              "#7201a8"
             ],
             [
              0.3333333333333333,
              "#9c179e"
             ],
             [
              0.4444444444444444,
              "#bd3786"
             ],
             [
              0.5555555555555556,
              "#d8576b"
             ],
             [
              0.6666666666666666,
              "#ed7953"
             ],
             [
              0.7777777777777778,
              "#fb9f3a"
             ],
             [
              0.8888888888888888,
              "#fdca26"
             ],
             [
              1,
              "#f0f921"
             ]
            ],
            "type": "surface"
           }
          ],
          "table": [
           {
            "cells": {
             "fill": {
              "color": "#EBF0F8"
             },
             "line": {
              "color": "white"
             }
            },
            "header": {
             "fill": {
              "color": "#C8D4E3"
             },
             "line": {
              "color": "white"
             }
            },
            "type": "table"
           }
          ]
         },
         "layout": {
          "annotationdefaults": {
           "arrowcolor": "#2a3f5f",
           "arrowhead": 0,
           "arrowwidth": 1
          },
          "autotypenumbers": "strict",
          "coloraxis": {
           "colorbar": {
            "outlinewidth": 0,
            "ticks": ""
           }
          },
          "colorscale": {
           "diverging": [
            [
             0,
             "#8e0152"
            ],
            [
             0.1,
             "#c51b7d"
            ],
            [
             0.2,
             "#de77ae"
            ],
            [
             0.3,
             "#f1b6da"
            ],
            [
             0.4,
             "#fde0ef"
            ],
            [
             0.5,
             "#f7f7f7"
            ],
            [
             0.6,
             "#e6f5d0"
            ],
            [
             0.7,
             "#b8e186"
            ],
            [
             0.8,
             "#7fbc41"
            ],
            [
             0.9,
             "#4d9221"
            ],
            [
             1,
             "#276419"
            ]
           ],
           "sequential": [
            [
             0,
             "#0d0887"
            ],
            [
             0.1111111111111111,
             "#46039f"
            ],
            [
             0.2222222222222222,
             "#7201a8"
            ],
            [
             0.3333333333333333,
             "#9c179e"
            ],
            [
             0.4444444444444444,
             "#bd3786"
            ],
            [
             0.5555555555555556,
             "#d8576b"
            ],
            [
             0.6666666666666666,
             "#ed7953"
            ],
            [
             0.7777777777777778,
             "#fb9f3a"
            ],
            [
             0.8888888888888888,
             "#fdca26"
            ],
            [
             1,
             "#f0f921"
            ]
           ],
           "sequentialminus": [
            [
             0,
             "#0d0887"
            ],
            [
             0.1111111111111111,
             "#46039f"
            ],
            [
             0.2222222222222222,
             "#7201a8"
            ],
            [
             0.3333333333333333,
             "#9c179e"
            ],
            [
             0.4444444444444444,
             "#bd3786"
            ],
            [
             0.5555555555555556,
             "#d8576b"
            ],
            [
             0.6666666666666666,
             "#ed7953"
            ],
            [
             0.7777777777777778,
             "#fb9f3a"
            ],
            [
             0.8888888888888888,
             "#fdca26"
            ],
            [
             1,
             "#f0f921"
            ]
           ]
          },
          "colorway": [
           "#636efa",
           "#EF553B",
           "#00cc96",
           "#ab63fa",
           "#FFA15A",
           "#19d3f3",
           "#FF6692",
           "#B6E880",
           "#FF97FF",
           "#FECB52"
          ],
          "font": {
           "color": "#2a3f5f"
          },
          "geo": {
           "bgcolor": "white",
           "lakecolor": "white",
           "landcolor": "#E5ECF6",
           "showlakes": true,
           "showland": true,
           "subunitcolor": "white"
          },
          "hoverlabel": {
           "align": "left"
          },
          "hovermode": "closest",
          "mapbox": {
           "style": "light"
          },
          "paper_bgcolor": "white",
          "plot_bgcolor": "#E5ECF6",
          "polar": {
           "angularaxis": {
            "gridcolor": "white",
            "linecolor": "white",
            "ticks": ""
           },
           "bgcolor": "#E5ECF6",
           "radialaxis": {
            "gridcolor": "white",
            "linecolor": "white",
            "ticks": ""
           }
          },
          "scene": {
           "xaxis": {
            "backgroundcolor": "#E5ECF6",
            "gridcolor": "white",
            "gridwidth": 2,
            "linecolor": "white",
            "showbackground": true,
            "ticks": "",
            "zerolinecolor": "white"
           },
           "yaxis": {
            "backgroundcolor": "#E5ECF6",
            "gridcolor": "white",
            "gridwidth": 2,
            "linecolor": "white",
            "showbackground": true,
            "ticks": "",
            "zerolinecolor": "white"
           },
           "zaxis": {
            "backgroundcolor": "#E5ECF6",
            "gridcolor": "white",
            "gridwidth": 2,
            "linecolor": "white",
            "showbackground": true,
            "ticks": "",
            "zerolinecolor": "white"
           }
          },
          "shapedefaults": {
           "line": {
            "color": "#2a3f5f"
           }
          },
          "ternary": {
           "aaxis": {
            "gridcolor": "white",
            "linecolor": "white",
            "ticks": ""
           },
           "baxis": {
            "gridcolor": "white",
            "linecolor": "white",
            "ticks": ""
           },
           "bgcolor": "#E5ECF6",
           "caxis": {
            "gridcolor": "white",
            "linecolor": "white",
            "ticks": ""
           }
          },
          "title": {
           "x": 0.05
          },
          "xaxis": {
           "automargin": true,
           "gridcolor": "white",
           "linecolor": "white",
           "ticks": "",
           "title": {
            "standoff": 15
           },
           "zerolinecolor": "white",
           "zerolinewidth": 2
          },
          "yaxis": {
           "automargin": true,
           "gridcolor": "white",
           "linecolor": "white",
           "ticks": "",
           "title": {
            "standoff": 15
           },
           "zerolinecolor": "white",
           "zerolinewidth": 2
          }
         }
        },
        "title": {
         "text": "Comparison of Model Accuracies"
        },
        "xaxis": {
         "anchor": "y",
         "domain": [
          0,
          1
         ],
         "title": {
          "text": "Models"
         }
        },
        "yaxis": {
         "anchor": "x",
         "domain": [
          0,
          1
         ],
         "title": {
          "text": "Accuracy"
         }
        }
       }
      }
     },
     "metadata": {},
     "output_type": "display_data"
    }
   ],
   "source": [
    "import plotly.express as px\n",
    "\n",
    "# Create a grouped bar chart\n",
    "fig = px.bar(x=['EDMR', 'EDM', 'EDR', 'MRD'],\n",
    "             y=[accuracy_svm_mrd,accuracy_svm_edm,accuracy_svm_edr,accuracy_svm_4],\n",
    "             barmode='group',\n",
    "             labels={'y': 'Accuracy', 'x': 'Models'},\n",
    "             title='Comparison of Model Accuracies')\n",
    "\n",
    "# Show the plot\n",
    "fig.show()\n",
    "\n"
   ]
  },
  {
   "cell_type": "code",
   "execution_count": null,
   "metadata": {},
   "outputs": [
    {
     "data": {
      "application/vnd.plotly.v1+json": {
       "config": {
        "plotlyServerURL": "https://plot.ly"
       },
       "data": [
        {
         "alignmentgroup": "True",
         "hovertemplate": "Models=%{x}<br>Accuracy=%{y}<extra></extra>",
         "legendgroup": "",
         "marker": {
          "color": "#636efa",
          "pattern": {
           "shape": ""
          }
         },
         "name": "",
         "offsetgroup": "",
         "orientation": "v",
         "showlegend": false,
         "textposition": "auto",
         "type": "bar",
         "x": [
          "EDMR",
          "EDM",
          "EDR",
          "MRD"
         ],
         "xaxis": "x",
         "y": [
          0.8268398268398268,
          0.8268398268398268,
          0.8268398268398268,
          0.5
         ],
         "yaxis": "y"
        }
       ],
       "layout": {
        "barmode": "group",
        "legend": {
         "tracegroupgap": 0
        },
        "template": {
         "data": {
          "bar": [
           {
            "error_x": {
             "color": "#2a3f5f"
            },
            "error_y": {
             "color": "#2a3f5f"
            },
            "marker": {
             "line": {
              "color": "#E5ECF6",
              "width": 0.5
             },
             "pattern": {
              "fillmode": "overlay",
              "size": 10,
              "solidity": 0.2
             }
            },
            "type": "bar"
           }
          ],
          "barpolar": [
           {
            "marker": {
             "line": {
              "color": "#E5ECF6",
              "width": 0.5
             },
             "pattern": {
              "fillmode": "overlay",
              "size": 10,
              "solidity": 0.2
             }
            },
            "type": "barpolar"
           }
          ],
          "carpet": [
           {
            "aaxis": {
             "endlinecolor": "#2a3f5f",
             "gridcolor": "white",
             "linecolor": "white",
             "minorgridcolor": "white",
             "startlinecolor": "#2a3f5f"
            },
            "baxis": {
             "endlinecolor": "#2a3f5f",
             "gridcolor": "white",
             "linecolor": "white",
             "minorgridcolor": "white",
             "startlinecolor": "#2a3f5f"
            },
            "type": "carpet"
           }
          ],
          "choropleth": [
           {
            "colorbar": {
             "outlinewidth": 0,
             "ticks": ""
            },
            "type": "choropleth"
           }
          ],
          "contour": [
           {
            "colorbar": {
             "outlinewidth": 0,
             "ticks": ""
            },
            "colorscale": [
             [
              0,
              "#0d0887"
             ],
             [
              0.1111111111111111,
              "#46039f"
             ],
             [
              0.2222222222222222,
              "#7201a8"
             ],
             [
              0.3333333333333333,
              "#9c179e"
             ],
             [
              0.4444444444444444,
              "#bd3786"
             ],
             [
              0.5555555555555556,
              "#d8576b"
             ],
             [
              0.6666666666666666,
              "#ed7953"
             ],
             [
              0.7777777777777778,
              "#fb9f3a"
             ],
             [
              0.8888888888888888,
              "#fdca26"
             ],
             [
              1,
              "#f0f921"
             ]
            ],
            "type": "contour"
           }
          ],
          "contourcarpet": [
           {
            "colorbar": {
             "outlinewidth": 0,
             "ticks": ""
            },
            "type": "contourcarpet"
           }
          ],
          "heatmap": [
           {
            "colorbar": {
             "outlinewidth": 0,
             "ticks": ""
            },
            "colorscale": [
             [
              0,
              "#0d0887"
             ],
             [
              0.1111111111111111,
              "#46039f"
             ],
             [
              0.2222222222222222,
              "#7201a8"
             ],
             [
              0.3333333333333333,
              "#9c179e"
             ],
             [
              0.4444444444444444,
              "#bd3786"
             ],
             [
              0.5555555555555556,
              "#d8576b"
             ],
             [
              0.6666666666666666,
              "#ed7953"
             ],
             [
              0.7777777777777778,
              "#fb9f3a"
             ],
             [
              0.8888888888888888,
              "#fdca26"
             ],
             [
              1,
              "#f0f921"
             ]
            ],
            "type": "heatmap"
           }
          ],
          "heatmapgl": [
           {
            "colorbar": {
             "outlinewidth": 0,
             "ticks": ""
            },
            "colorscale": [
             [
              0,
              "#0d0887"
             ],
             [
              0.1111111111111111,
              "#46039f"
             ],
             [
              0.2222222222222222,
              "#7201a8"
             ],
             [
              0.3333333333333333,
              "#9c179e"
             ],
             [
              0.4444444444444444,
              "#bd3786"
             ],
             [
              0.5555555555555556,
              "#d8576b"
             ],
             [
              0.6666666666666666,
              "#ed7953"
             ],
             [
              0.7777777777777778,
              "#fb9f3a"
             ],
             [
              0.8888888888888888,
              "#fdca26"
             ],
             [
              1,
              "#f0f921"
             ]
            ],
            "type": "heatmapgl"
           }
          ],
          "histogram": [
           {
            "marker": {
             "pattern": {
              "fillmode": "overlay",
              "size": 10,
              "solidity": 0.2
             }
            },
            "type": "histogram"
           }
          ],
          "histogram2d": [
           {
            "colorbar": {
             "outlinewidth": 0,
             "ticks": ""
            },
            "colorscale": [
             [
              0,
              "#0d0887"
             ],
             [
              0.1111111111111111,
              "#46039f"
             ],
             [
              0.2222222222222222,
              "#7201a8"
             ],
             [
              0.3333333333333333,
              "#9c179e"
             ],
             [
              0.4444444444444444,
              "#bd3786"
             ],
             [
              0.5555555555555556,
              "#d8576b"
             ],
             [
              0.6666666666666666,
              "#ed7953"
             ],
             [
              0.7777777777777778,
              "#fb9f3a"
             ],
             [
              0.8888888888888888,
              "#fdca26"
             ],
             [
              1,
              "#f0f921"
             ]
            ],
            "type": "histogram2d"
           }
          ],
          "histogram2dcontour": [
           {
            "colorbar": {
             "outlinewidth": 0,
             "ticks": ""
            },
            "colorscale": [
             [
              0,
              "#0d0887"
             ],
             [
              0.1111111111111111,
              "#46039f"
             ],
             [
              0.2222222222222222,
              "#7201a8"
             ],
             [
              0.3333333333333333,
              "#9c179e"
             ],
             [
              0.4444444444444444,
              "#bd3786"
             ],
             [
              0.5555555555555556,
              "#d8576b"
             ],
             [
              0.6666666666666666,
              "#ed7953"
             ],
             [
              0.7777777777777778,
              "#fb9f3a"
             ],
             [
              0.8888888888888888,
              "#fdca26"
             ],
             [
              1,
              "#f0f921"
             ]
            ],
            "type": "histogram2dcontour"
           }
          ],
          "mesh3d": [
           {
            "colorbar": {
             "outlinewidth": 0,
             "ticks": ""
            },
            "type": "mesh3d"
           }
          ],
          "parcoords": [
           {
            "line": {
             "colorbar": {
              "outlinewidth": 0,
              "ticks": ""
             }
            },
            "type": "parcoords"
           }
          ],
          "pie": [
           {
            "automargin": true,
            "type": "pie"
           }
          ],
          "scatter": [
           {
            "fillpattern": {
             "fillmode": "overlay",
             "size": 10,
             "solidity": 0.2
            },
            "type": "scatter"
           }
          ],
          "scatter3d": [
           {
            "line": {
             "colorbar": {
              "outlinewidth": 0,
              "ticks": ""
             }
            },
            "marker": {
             "colorbar": {
              "outlinewidth": 0,
              "ticks": ""
             }
            },
            "type": "scatter3d"
           }
          ],
          "scattercarpet": [
           {
            "marker": {
             "colorbar": {
              "outlinewidth": 0,
              "ticks": ""
             }
            },
            "type": "scattercarpet"
           }
          ],
          "scattergeo": [
           {
            "marker": {
             "colorbar": {
              "outlinewidth": 0,
              "ticks": ""
             }
            },
            "type": "scattergeo"
           }
          ],
          "scattergl": [
           {
            "marker": {
             "colorbar": {
              "outlinewidth": 0,
              "ticks": ""
             }
            },
            "type": "scattergl"
           }
          ],
          "scattermapbox": [
           {
            "marker": {
             "colorbar": {
              "outlinewidth": 0,
              "ticks": ""
             }
            },
            "type": "scattermapbox"
           }
          ],
          "scatterpolar": [
           {
            "marker": {
             "colorbar": {
              "outlinewidth": 0,
              "ticks": ""
             }
            },
            "type": "scatterpolar"
           }
          ],
          "scatterpolargl": [
           {
            "marker": {
             "colorbar": {
              "outlinewidth": 0,
              "ticks": ""
             }
            },
            "type": "scatterpolargl"
           }
          ],
          "scatterternary": [
           {
            "marker": {
             "colorbar": {
              "outlinewidth": 0,
              "ticks": ""
             }
            },
            "type": "scatterternary"
           }
          ],
          "surface": [
           {
            "colorbar": {
             "outlinewidth": 0,
             "ticks": ""
            },
            "colorscale": [
             [
              0,
              "#0d0887"
             ],
             [
              0.1111111111111111,
              "#46039f"
             ],
             [
              0.2222222222222222,
              "#7201a8"
             ],
             [
              0.3333333333333333,
              "#9c179e"
             ],
             [
              0.4444444444444444,
              "#bd3786"
             ],
             [
              0.5555555555555556,
              "#d8576b"
             ],
             [
              0.6666666666666666,
              "#ed7953"
             ],
             [
              0.7777777777777778,
              "#fb9f3a"
             ],
             [
              0.8888888888888888,
              "#fdca26"
             ],
             [
              1,
              "#f0f921"
             ]
            ],
            "type": "surface"
           }
          ],
          "table": [
           {
            "cells": {
             "fill": {
              "color": "#EBF0F8"
             },
             "line": {
              "color": "white"
             }
            },
            "header": {
             "fill": {
              "color": "#C8D4E3"
             },
             "line": {
              "color": "white"
             }
            },
            "type": "table"
           }
          ]
         },
         "layout": {
          "annotationdefaults": {
           "arrowcolor": "#2a3f5f",
           "arrowhead": 0,
           "arrowwidth": 1
          },
          "autotypenumbers": "strict",
          "coloraxis": {
           "colorbar": {
            "outlinewidth": 0,
            "ticks": ""
           }
          },
          "colorscale": {
           "diverging": [
            [
             0,
             "#8e0152"
            ],
            [
             0.1,
             "#c51b7d"
            ],
            [
             0.2,
             "#de77ae"
            ],
            [
             0.3,
             "#f1b6da"
            ],
            [
             0.4,
             "#fde0ef"
            ],
            [
             0.5,
             "#f7f7f7"
            ],
            [
             0.6,
             "#e6f5d0"
            ],
            [
             0.7,
             "#b8e186"
            ],
            [
             0.8,
             "#7fbc41"
            ],
            [
             0.9,
             "#4d9221"
            ],
            [
             1,
             "#276419"
            ]
           ],
           "sequential": [
            [
             0,
             "#0d0887"
            ],
            [
             0.1111111111111111,
             "#46039f"
            ],
            [
             0.2222222222222222,
             "#7201a8"
            ],
            [
             0.3333333333333333,
             "#9c179e"
            ],
            [
             0.4444444444444444,
             "#bd3786"
            ],
            [
             0.5555555555555556,
             "#d8576b"
            ],
            [
             0.6666666666666666,
             "#ed7953"
            ],
            [
             0.7777777777777778,
             "#fb9f3a"
            ],
            [
             0.8888888888888888,
             "#fdca26"
            ],
            [
             1,
             "#f0f921"
            ]
           ],
           "sequentialminus": [
            [
             0,
             "#0d0887"
            ],
            [
             0.1111111111111111,
             "#46039f"
            ],
            [
             0.2222222222222222,
             "#7201a8"
            ],
            [
             0.3333333333333333,
             "#9c179e"
            ],
            [
             0.4444444444444444,
             "#bd3786"
            ],
            [
             0.5555555555555556,
             "#d8576b"
            ],
            [
             0.6666666666666666,
             "#ed7953"
            ],
            [
             0.7777777777777778,
             "#fb9f3a"
            ],
            [
             0.8888888888888888,
             "#fdca26"
            ],
            [
             1,
             "#f0f921"
            ]
           ]
          },
          "colorway": [
           "#636efa",
           "#EF553B",
           "#00cc96",
           "#ab63fa",
           "#FFA15A",
           "#19d3f3",
           "#FF6692",
           "#B6E880",
           "#FF97FF",
           "#FECB52"
          ],
          "font": {
           "color": "#2a3f5f"
          },
          "geo": {
           "bgcolor": "white",
           "lakecolor": "white",
           "landcolor": "#E5ECF6",
           "showlakes": true,
           "showland": true,
           "subunitcolor": "white"
          },
          "hoverlabel": {
           "align": "left"
          },
          "hovermode": "closest",
          "mapbox": {
           "style": "light"
          },
          "paper_bgcolor": "white",
          "plot_bgcolor": "#E5ECF6",
          "polar": {
           "angularaxis": {
            "gridcolor": "white",
            "linecolor": "white",
            "ticks": ""
           },
           "bgcolor": "#E5ECF6",
           "radialaxis": {
            "gridcolor": "white",
            "linecolor": "white",
            "ticks": ""
           }
          },
          "scene": {
           "xaxis": {
            "backgroundcolor": "#E5ECF6",
            "gridcolor": "white",
            "gridwidth": 2,
            "linecolor": "white",
            "showbackground": true,
            "ticks": "",
            "zerolinecolor": "white"
           },
           "yaxis": {
            "backgroundcolor": "#E5ECF6",
            "gridcolor": "white",
            "gridwidth": 2,
            "linecolor": "white",
            "showbackground": true,
            "ticks": "",
            "zerolinecolor": "white"
           },
           "zaxis": {
            "backgroundcolor": "#E5ECF6",
            "gridcolor": "white",
            "gridwidth": 2,
            "linecolor": "white",
            "showbackground": true,
            "ticks": "",
            "zerolinecolor": "white"
           }
          },
          "shapedefaults": {
           "line": {
            "color": "#2a3f5f"
           }
          },
          "ternary": {
           "aaxis": {
            "gridcolor": "white",
            "linecolor": "white",
            "ticks": ""
           },
           "baxis": {
            "gridcolor": "white",
            "linecolor": "white",
            "ticks": ""
           },
           "bgcolor": "#E5ECF6",
           "caxis": {
            "gridcolor": "white",
            "linecolor": "white",
            "ticks": ""
           }
          },
          "title": {
           "x": 0.05
          },
          "xaxis": {
           "automargin": true,
           "gridcolor": "white",
           "linecolor": "white",
           "ticks": "",
           "title": {
            "standoff": 15
           },
           "zerolinecolor": "white",
           "zerolinewidth": 2
          },
          "yaxis": {
           "automargin": true,
           "gridcolor": "white",
           "linecolor": "white",
           "ticks": "",
           "title": {
            "standoff": 15
           },
           "zerolinecolor": "white",
           "zerolinewidth": 2
          }
         }
        },
        "title": {
         "text": "Comparison of Model Accuracies"
        },
        "xaxis": {
         "anchor": "y",
         "domain": [
          0,
          1
         ],
         "title": {
          "text": "Models"
         }
        },
        "yaxis": {
         "anchor": "x",
         "domain": [
          0,
          1
         ],
         "title": {
          "text": "Accuracy"
         }
        }
       }
      }
     },
     "metadata": {},
     "output_type": "display_data"
    }
   ],
   "source": [
    "import plotly.express as px\n",
    "\n",
    "# Create a grouped bar chart\n",
    "fig = px.bar(x=['EDMR', 'EDM', 'EDR', 'MRD'],\n",
    "             y=[accuracy_svm_pca_mrd, accuracy_svm_pca_edr, accuracy_svm_pca_4],\n",
    "             barmode='group',\n",
    "             labels={'y': 'Accuracy', 'x': 'Models'},\n",
    "             title='Comparison of Model Accuracies')\n",
    "\n",
    "# Show the plot\n",
    "fig.show()\n",
    "\n"
   ]
  },
  {
   "cell_type": "code",
   "execution_count": null,
   "metadata": {},
   "outputs": [
    {
     "data": {
      "application/vnd.plotly.v1+json": {
       "config": {
        "plotlyServerURL": "https://plot.ly"
       },
       "data": [
        {
         "alignmentgroup": "True",
         "hovertemplate": "color=Without PCA<br>Models=%{x}<br>Accuracy=%{y}<extra></extra>",
         "legendgroup": "Without PCA",
         "marker": {
          "color": "#636efa",
          "pattern": {
           "shape": ""
          }
         },
         "name": "Without PCA",
         "offsetgroup": "Without PCA",
         "orientation": "v",
         "showlegend": true,
         "textposition": "auto",
         "type": "bar",
         "x": [
          "MRD",
          "EDMR",
          "EDR",
          "EDM"
         ],
         "xaxis": "x",
         "y": [
          0.9437229437229437,
          0.5974025974025974,
          0.935064935064935,
          0.9307359307359307
         ],
         "yaxis": "y"
        },
        {
         "alignmentgroup": "True",
         "hovertemplate": "color=With PCA<br>Models=%{x}<br>Accuracy=%{y}<extra></extra>",
         "legendgroup": "With PCA",
         "marker": {
          "color": "#EF553B",
          "pattern": {
           "shape": ""
          }
         },
         "name": "With PCA",
         "offsetgroup": "With PCA",
         "orientation": "v",
         "showlegend": true,
         "textposition": "auto",
         "type": "bar",
         "x": [
          "MRD",
          "EDMR",
          "EDR",
          "EDM"
         ],
         "xaxis": "x",
         "y": [
          0.8268398268398268,
          0.5,
          0.935064935064935,
          0.9307359307359307
         ],
         "yaxis": "y"
        }
       ],
       "layout": {
        "barmode": "group",
        "legend": {
         "title": {
          "text": "color"
         },
         "tracegroupgap": 0
        },
        "template": {
         "data": {
          "bar": [
           {
            "error_x": {
             "color": "#2a3f5f"
            },
            "error_y": {
             "color": "#2a3f5f"
            },
            "marker": {
             "line": {
              "color": "#E5ECF6",
              "width": 0.5
             },
             "pattern": {
              "fillmode": "overlay",
              "size": 10,
              "solidity": 0.2
             }
            },
            "type": "bar"
           }
          ],
          "barpolar": [
           {
            "marker": {
             "line": {
              "color": "#E5ECF6",
              "width": 0.5
             },
             "pattern": {
              "fillmode": "overlay",
              "size": 10,
              "solidity": 0.2
             }
            },
            "type": "barpolar"
           }
          ],
          "carpet": [
           {
            "aaxis": {
             "endlinecolor": "#2a3f5f",
             "gridcolor": "white",
             "linecolor": "white",
             "minorgridcolor": "white",
             "startlinecolor": "#2a3f5f"
            },
            "baxis": {
             "endlinecolor": "#2a3f5f",
             "gridcolor": "white",
             "linecolor": "white",
             "minorgridcolor": "white",
             "startlinecolor": "#2a3f5f"
            },
            "type": "carpet"
           }
          ],
          "choropleth": [
           {
            "colorbar": {
             "outlinewidth": 0,
             "ticks": ""
            },
            "type": "choropleth"
           }
          ],
          "contour": [
           {
            "colorbar": {
             "outlinewidth": 0,
             "ticks": ""
            },
            "colorscale": [
             [
              0,
              "#0d0887"
             ],
             [
              0.1111111111111111,
              "#46039f"
             ],
             [
              0.2222222222222222,
              "#7201a8"
             ],
             [
              0.3333333333333333,
              "#9c179e"
             ],
             [
              0.4444444444444444,
              "#bd3786"
             ],
             [
              0.5555555555555556,
              "#d8576b"
             ],
             [
              0.6666666666666666,
              "#ed7953"
             ],
             [
              0.7777777777777778,
              "#fb9f3a"
             ],
             [
              0.8888888888888888,
              "#fdca26"
             ],
             [
              1,
              "#f0f921"
             ]
            ],
            "type": "contour"
           }
          ],
          "contourcarpet": [
           {
            "colorbar": {
             "outlinewidth": 0,
             "ticks": ""
            },
            "type": "contourcarpet"
           }
          ],
          "heatmap": [
           {
            "colorbar": {
             "outlinewidth": 0,
             "ticks": ""
            },
            "colorscale": [
             [
              0,
              "#0d0887"
             ],
             [
              0.1111111111111111,
              "#46039f"
             ],
             [
              0.2222222222222222,
              "#7201a8"
             ],
             [
              0.3333333333333333,
              "#9c179e"
             ],
             [
              0.4444444444444444,
              "#bd3786"
             ],
             [
              0.5555555555555556,
              "#d8576b"
             ],
             [
              0.6666666666666666,
              "#ed7953"
             ],
             [
              0.7777777777777778,
              "#fb9f3a"
             ],
             [
              0.8888888888888888,
              "#fdca26"
             ],
             [
              1,
              "#f0f921"
             ]
            ],
            "type": "heatmap"
           }
          ],
          "heatmapgl": [
           {
            "colorbar": {
             "outlinewidth": 0,
             "ticks": ""
            },
            "colorscale": [
             [
              0,
              "#0d0887"
             ],
             [
              0.1111111111111111,
              "#46039f"
             ],
             [
              0.2222222222222222,
              "#7201a8"
             ],
             [
              0.3333333333333333,
              "#9c179e"
             ],
             [
              0.4444444444444444,
              "#bd3786"
             ],
             [
              0.5555555555555556,
              "#d8576b"
             ],
             [
              0.6666666666666666,
              "#ed7953"
             ],
             [
              0.7777777777777778,
              "#fb9f3a"
             ],
             [
              0.8888888888888888,
              "#fdca26"
             ],
             [
              1,
              "#f0f921"
             ]
            ],
            "type": "heatmapgl"
           }
          ],
          "histogram": [
           {
            "marker": {
             "pattern": {
              "fillmode": "overlay",
              "size": 10,
              "solidity": 0.2
             }
            },
            "type": "histogram"
           }
          ],
          "histogram2d": [
           {
            "colorbar": {
             "outlinewidth": 0,
             "ticks": ""
            },
            "colorscale": [
             [
              0,
              "#0d0887"
             ],
             [
              0.1111111111111111,
              "#46039f"
             ],
             [
              0.2222222222222222,
              "#7201a8"
             ],
             [
              0.3333333333333333,
              "#9c179e"
             ],
             [
              0.4444444444444444,
              "#bd3786"
             ],
             [
              0.5555555555555556,
              "#d8576b"
             ],
             [
              0.6666666666666666,
              "#ed7953"
             ],
             [
              0.7777777777777778,
              "#fb9f3a"
             ],
             [
              0.8888888888888888,
              "#fdca26"
             ],
             [
              1,
              "#f0f921"
             ]
            ],
            "type": "histogram2d"
           }
          ],
          "histogram2dcontour": [
           {
            "colorbar": {
             "outlinewidth": 0,
             "ticks": ""
            },
            "colorscale": [
             [
              0,
              "#0d0887"
             ],
             [
              0.1111111111111111,
              "#46039f"
             ],
             [
              0.2222222222222222,
              "#7201a8"
             ],
             [
              0.3333333333333333,
              "#9c179e"
             ],
             [
              0.4444444444444444,
              "#bd3786"
             ],
             [
              0.5555555555555556,
              "#d8576b"
             ],
             [
              0.6666666666666666,
              "#ed7953"
             ],
             [
              0.7777777777777778,
              "#fb9f3a"
             ],
             [
              0.8888888888888888,
              "#fdca26"
             ],
             [
              1,
              "#f0f921"
             ]
            ],
            "type": "histogram2dcontour"
           }
          ],
          "mesh3d": [
           {
            "colorbar": {
             "outlinewidth": 0,
             "ticks": ""
            },
            "type": "mesh3d"
           }
          ],
          "parcoords": [
           {
            "line": {
             "colorbar": {
              "outlinewidth": 0,
              "ticks": ""
             }
            },
            "type": "parcoords"
           }
          ],
          "pie": [
           {
            "automargin": true,
            "type": "pie"
           }
          ],
          "scatter": [
           {
            "fillpattern": {
             "fillmode": "overlay",
             "size": 10,
             "solidity": 0.2
            },
            "type": "scatter"
           }
          ],
          "scatter3d": [
           {
            "line": {
             "colorbar": {
              "outlinewidth": 0,
              "ticks": ""
             }
            },
            "marker": {
             "colorbar": {
              "outlinewidth": 0,
              "ticks": ""
             }
            },
            "type": "scatter3d"
           }
          ],
          "scattercarpet": [
           {
            "marker": {
             "colorbar": {
              "outlinewidth": 0,
              "ticks": ""
             }
            },
            "type": "scattercarpet"
           }
          ],
          "scattergeo": [
           {
            "marker": {
             "colorbar": {
              "outlinewidth": 0,
              "ticks": ""
             }
            },
            "type": "scattergeo"
           }
          ],
          "scattergl": [
           {
            "marker": {
             "colorbar": {
              "outlinewidth": 0,
              "ticks": ""
             }
            },
            "type": "scattergl"
           }
          ],
          "scattermapbox": [
           {
            "marker": {
             "colorbar": {
              "outlinewidth": 0,
              "ticks": ""
             }
            },
            "type": "scattermapbox"
           }
          ],
          "scatterpolar": [
           {
            "marker": {
             "colorbar": {
              "outlinewidth": 0,
              "ticks": ""
             }
            },
            "type": "scatterpolar"
           }
          ],
          "scatterpolargl": [
           {
            "marker": {
             "colorbar": {
              "outlinewidth": 0,
              "ticks": ""
             }
            },
            "type": "scatterpolargl"
           }
          ],
          "scatterternary": [
           {
            "marker": {
             "colorbar": {
              "outlinewidth": 0,
              "ticks": ""
             }
            },
            "type": "scatterternary"
           }
          ],
          "surface": [
           {
            "colorbar": {
             "outlinewidth": 0,
             "ticks": ""
            },
            "colorscale": [
             [
              0,
              "#0d0887"
             ],
             [
              0.1111111111111111,
              "#46039f"
             ],
             [
              0.2222222222222222,
              "#7201a8"
             ],
             [
              0.3333333333333333,
              "#9c179e"
             ],
             [
              0.4444444444444444,
              "#bd3786"
             ],
             [
              0.5555555555555556,
              "#d8576b"
             ],
             [
              0.6666666666666666,
              "#ed7953"
             ],
             [
              0.7777777777777778,
              "#fb9f3a"
             ],
             [
              0.8888888888888888,
              "#fdca26"
             ],
             [
              1,
              "#f0f921"
             ]
            ],
            "type": "surface"
           }
          ],
          "table": [
           {
            "cells": {
             "fill": {
              "color": "#EBF0F8"
             },
             "line": {
              "color": "white"
             }
            },
            "header": {
             "fill": {
              "color": "#C8D4E3"
             },
             "line": {
              "color": "white"
             }
            },
            "type": "table"
           }
          ]
         },
         "layout": {
          "annotationdefaults": {
           "arrowcolor": "#2a3f5f",
           "arrowhead": 0,
           "arrowwidth": 1
          },
          "autotypenumbers": "strict",
          "coloraxis": {
           "colorbar": {
            "outlinewidth": 0,
            "ticks": ""
           }
          },
          "colorscale": {
           "diverging": [
            [
             0,
             "#8e0152"
            ],
            [
             0.1,
             "#c51b7d"
            ],
            [
             0.2,
             "#de77ae"
            ],
            [
             0.3,
             "#f1b6da"
            ],
            [
             0.4,
             "#fde0ef"
            ],
            [
             0.5,
             "#f7f7f7"
            ],
            [
             0.6,
             "#e6f5d0"
            ],
            [
             0.7,
             "#b8e186"
            ],
            [
             0.8,
             "#7fbc41"
            ],
            [
             0.9,
             "#4d9221"
            ],
            [
             1,
             "#276419"
            ]
           ],
           "sequential": [
            [
             0,
             "#0d0887"
            ],
            [
             0.1111111111111111,
             "#46039f"
            ],
            [
             0.2222222222222222,
             "#7201a8"
            ],
            [
             0.3333333333333333,
             "#9c179e"
            ],
            [
             0.4444444444444444,
             "#bd3786"
            ],
            [
             0.5555555555555556,
             "#d8576b"
            ],
            [
             0.6666666666666666,
             "#ed7953"
            ],
            [
             0.7777777777777778,
             "#fb9f3a"
            ],
            [
             0.8888888888888888,
             "#fdca26"
            ],
            [
             1,
             "#f0f921"
            ]
           ],
           "sequentialminus": [
            [
             0,
             "#0d0887"
            ],
            [
             0.1111111111111111,
             "#46039f"
            ],
            [
             0.2222222222222222,
             "#7201a8"
            ],
            [
             0.3333333333333333,
             "#9c179e"
            ],
            [
             0.4444444444444444,
             "#bd3786"
            ],
            [
             0.5555555555555556,
             "#d8576b"
            ],
            [
             0.6666666666666666,
             "#ed7953"
            ],
            [
             0.7777777777777778,
             "#fb9f3a"
            ],
            [
             0.8888888888888888,
             "#fdca26"
            ],
            [
             1,
             "#f0f921"
            ]
           ]
          },
          "colorway": [
           "#636efa",
           "#EF553B",
           "#00cc96",
           "#ab63fa",
           "#FFA15A",
           "#19d3f3",
           "#FF6692",
           "#B6E880",
           "#FF97FF",
           "#FECB52"
          ],
          "font": {
           "color": "#2a3f5f"
          },
          "geo": {
           "bgcolor": "white",
           "lakecolor": "white",
           "landcolor": "#E5ECF6",
           "showlakes": true,
           "showland": true,
           "subunitcolor": "white"
          },
          "hoverlabel": {
           "align": "left"
          },
          "hovermode": "closest",
          "mapbox": {
           "style": "light"
          },
          "paper_bgcolor": "white",
          "plot_bgcolor": "#E5ECF6",
          "polar": {
           "angularaxis": {
            "gridcolor": "white",
            "linecolor": "white",
            "ticks": ""
           },
           "bgcolor": "#E5ECF6",
           "radialaxis": {
            "gridcolor": "white",
            "linecolor": "white",
            "ticks": ""
           }
          },
          "scene": {
           "xaxis": {
            "backgroundcolor": "#E5ECF6",
            "gridcolor": "white",
            "gridwidth": 2,
            "linecolor": "white",
            "showbackground": true,
            "ticks": "",
            "zerolinecolor": "white"
           },
           "yaxis": {
            "backgroundcolor": "#E5ECF6",
            "gridcolor": "white",
            "gridwidth": 2,
            "linecolor": "white",
            "showbackground": true,
            "ticks": "",
            "zerolinecolor": "white"
           },
           "zaxis": {
            "backgroundcolor": "#E5ECF6",
            "gridcolor": "white",
            "gridwidth": 2,
            "linecolor": "white",
            "showbackground": true,
            "ticks": "",
            "zerolinecolor": "white"
           }
          },
          "shapedefaults": {
           "line": {
            "color": "#2a3f5f"
           }
          },
          "ternary": {
           "aaxis": {
            "gridcolor": "white",
            "linecolor": "white",
            "ticks": ""
           },
           "baxis": {
            "gridcolor": "white",
            "linecolor": "white",
            "ticks": ""
           },
           "bgcolor": "#E5ECF6",
           "caxis": {
            "gridcolor": "white",
            "linecolor": "white",
            "ticks": ""
           }
          },
          "title": {
           "x": 0.05
          },
          "xaxis": {
           "automargin": true,
           "gridcolor": "white",
           "linecolor": "white",
           "ticks": "",
           "title": {
            "standoff": 15
           },
           "zerolinecolor": "white",
           "zerolinewidth": 2
          },
          "yaxis": {
           "automargin": true,
           "gridcolor": "white",
           "linecolor": "white",
           "ticks": "",
           "title": {
            "standoff": 15
           },
           "zerolinecolor": "white",
           "zerolinewidth": 2
          }
         }
        },
        "title": {
         "text": "Comparison of Model Accuracies with and without PCA"
        },
        "xaxis": {
         "anchor": "y",
         "domain": [
          0,
          1
         ],
         "title": {
          "text": "Models"
         }
        },
        "yaxis": {
         "anchor": "x",
         "domain": [
          0,
          1
         ],
         "title": {
          "text": "Accuracy"
         }
        }
       }
      }
     },
     "metadata": {},
     "output_type": "display_data"
    }
   ],
   "source": [
    "import plotly.express as px\n",
    "\n",
    "# Accuracy values without PCA\n",
    "accuracy_without_pca = [accuracy_svm_mrd,accuracy_svm_4,accuracy_svm_edr,accuracy_svm_edm]\n",
    "\n",
    "# Accuracy values with PCA\n",
    "accuracy_with_pca = [accuracy_svm_pca_mrd,accuracy_svm_pca_4,accuracy_svm_edr,accuracy_svm_edm]\n",
    "\n",
    "# Models\n",
    "model_names = [ 'MRD','EDMR','EDR','EDM']\n",
    "\n",
    "# Create a grouped bar chart\n",
    "fig = px.bar(x=model_names * 2,\n",
    "             y=accuracy_without_pca + accuracy_with_pca,\n",
    "             color=['Without PCA'] * len(model_names) + ['With PCA'] * len(model_names),\n",
    "             barmode='group',\n",
    "             labels={'y': 'Accuracy', 'x': 'Models'},\n",
    "             title='Comparison of Model Accuracies with and without PCA')\n",
    "\n",
    "# Show the plot\n",
    "fig.show()\n"
   ]
  }
 ],
 "metadata": {
  "kernelspec": {
   "display_name": "base",
   "language": "python",
   "name": "python3"
  },
  "language_info": {
   "codemirror_mode": {
    "name": "ipython",
    "version": 3
   },
   "file_extension": ".py",
   "mimetype": "text/x-python",
   "name": "python",
   "nbconvert_exporter": "python",
   "pygments_lexer": "ipython3",
   "version": "3.10.9"
  }
 },
 "nbformat": 4,
 "nbformat_minor": 2
}
